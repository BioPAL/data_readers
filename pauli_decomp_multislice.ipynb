{
 "cells": [
  {
   "cell_type": "markdown",
   "metadata": {},
   "source": [
    "# PAULI-DECOMPOSITION for PolSAR "
   ]
  },
  {
   "cell_type": "markdown",
   "metadata": {},
   "source": [
    "Copyright 2025 European Space Agency (ESA)\n",
    "\n",
    "Licensed under  ESA Software Community License Permissive (Type 3) – v2.4"
   ]
  },
  {
   "cell_type": "markdown",
   "metadata": {},
   "source": [
    "## Setup "
   ]
  },
  {
   "cell_type": "code",
   "execution_count": null,
   "metadata": {},
   "outputs": [],
   "source": [
    "%load_ext autoreload\n",
    "%autoreload 2"
   ]
  },
  {
   "cell_type": "code",
   "execution_count": null,
   "metadata": {},
   "outputs": [],
   "source": [
    "%matplotlib inline"
   ]
  },
  {
   "cell_type": "markdown",
   "metadata": {},
   "source": [
    "### Prerequisities"
   ]
  },
  {
   "cell_type": "code",
   "execution_count": null,
   "metadata": {},
   "outputs": [],
   "source": [
    "import pathlib\n",
    "\n",
    "import numpy as np\n",
    "from matplotlib import pyplot as plt"
   ]
  },
  {
   "cell_type": "code",
   "execution_count": null,
   "metadata": {},
   "outputs": [],
   "source": [
    "import bioqlk"
   ]
  },
  {
   "cell_type": "markdown",
   "metadata": {},
   "source": [
    "### Image processing parameters"
   ]
  },
  {
   "cell_type": "code",
   "execution_count": null,
   "metadata": {},
   "outputs": [],
   "source": [
    "winsz = [20, 4]  # Window size for smoothing \n",
    "gamma = 1 # Power scaling factor: Default (no scaling is for gamma = 1) If gamma > 1, brighter values are enhanced, if gamma < 1, darker values are enhanced \n",
    "\n",
    "threshold = 0.03\n",
    "# threshold = 0\n",
    "\n",
    "# Phase correction of 90 degrees as standard, can adjusted per channel: \n",
    "# pc_hh = np.deg2rad(-23.75)\n",
    "# pc_hv = np.deg2rad(113.46)\n",
    "# pc_vh = np.deg2rad(-89.7)\n",
    "\n",
    "# pc_hh = np.deg2rad(+23.75)\n",
    "# pc_hv = np.deg2rad(-113.46)\n",
    "# pc_vh = np.deg2rad(+89.7)\n",
    "\n",
    "pc_hh = np.deg2rad(+90)  # np.pi/2\n",
    "pc_hv = np.deg2rad(+90)  # np.pi/2\n",
    "pc_vh = np.deg2rad(-90)  # - np.pi/2\n",
    "\n",
    "# pc_hh = 0\n",
    "# pc_hv = 0\n",
    "# pc_vh = 0"
   ]
  },
  {
   "cell_type": "markdown",
   "metadata": {},
   "source": [
    "### Read image\n",
    "Import image and read channels."
   ]
  },
  {
   "cell_type": "code",
   "execution_count": null,
   "metadata": {},
   "outputs": [],
   "source": [
    "root = pathlib.Path(\"~/data/biomass/first-image/SLCs/MED\").expanduser()\n",
    "basepaths = [\n",
    "    root / \"BIO_S1_SCS__1S_20250523T102700_20250523T102852_C_G___M___C___T____F001_01_D9DXYJ\",\n",
    "    root / \"BIO_S1_SCS__1S_20250523T102835_20250523T103027_C_G___M___C___T____F001_01_D9E0GM\",\n",
    "]"
   ]
  },
  {
   "cell_type": "markdown",
   "metadata": {},
   "source": [
    "## Step 1: Compute the scaling values"
   ]
  },
  {
   "cell_type": "code",
   "execution_count": null,
   "metadata": {},
   "outputs": [],
   "source": [
    "def plot_hist(red, green, blue, title=\"Pauli\", scale=\"dB\", fig=None, ax=None):\n",
    "    if fig is None and ax is None:\n",
    "        fig, ax = plt.subplots(3, sharex=True)\n",
    "\n",
    "    ax[0].hist(red.ravel(), 500, label=\"k_1\")\n",
    "    # ax[0].set_title(\"k_1\")\n",
    "    ax[0].grid()\n",
    "    ax[0].legend()\n",
    "    ax[0].set_title(title)\n",
    "\n",
    "    ax[1].hist(green.ravel(), 500, label=\"k_2\")\n",
    "    # ax[1].set_title(\"k_2\")\n",
    "    ax[1].grid()\n",
    "    ax[1].legend()\n",
    "\n",
    "    ax[2].hist(blue.ravel(), 500, label=\"k_3\")\n",
    "    # ax[2].set_title(\"k_3\")\n",
    "    ax[2].grid()\n",
    "    ax[2].legend()\n",
    "    ax[2].set_xlabel(scale)\n",
    "\n",
    "    return fig, ax"
   ]
  },
  {
   "cell_type": "code",
   "execution_count": null,
   "metadata": {},
   "outputs": [],
   "source": [
    "import collections\n",
    "\n",
    "scaling_data = collections.defaultdict(list)\n",
    "fig, ax = plt.subplots(3, len(basepaths), sharex=True)\n",
    "for idx, basepath in enumerate(basepaths):\n",
    "    name = basepath.name\n",
    "    hh, hv, vh, vv, meta, gcps = bioqlk.load_data(basepath, return_metadata=True)\n",
    "    \n",
    "    # Apply the phase correction\n",
    "    if [pc_hh, pc_hv, pc_vh, 0.] != [0., 0., 0., 0.]:\n",
    "        hh, hv, vh, vv = bioqlk.fix_ical_phase(\n",
    "            hh, hv, vh, vv, pc_hh, pc_hv, pc_vh, 0.\n",
    "        )\n",
    "\n",
    "    red, green, blue = bioqlk.pauli(hh, hv, vh, vv, scale=bioqlk.EScale.DB)\n",
    "\n",
    "    red = bioqlk.smooth_nan(red, winsz)\n",
    "    green = bioqlk.smooth_nan(green, winsz)\n",
    "    blue = bioqlk.smooth_nan(blue, winsz)\n",
    "    \n",
    "    red_low, red_high = bioqlk.quantile_scaling(red, threshold=threshold)\n",
    "    green_low, green_high = bioqlk.quantile_scaling(green, threshold=threshold)\n",
    "    blue_low, blue_high = bioqlk.quantile_scaling(blue, threshold=threshold)\n",
    "\n",
    "    print(name)\n",
    "    print(f\"RED: ({red_low}, {red_high})\")\n",
    "    print(f\"GREEN: ({green_low}, {green_high})\")\n",
    "    print(f\"BLUE: ({blue_low}, {blue_high})\")\n",
    "\n",
    "    scaling_data[\"red_low\"].append(red_low)\n",
    "    scaling_data[\"red_high\"].append(red_high)\n",
    "    scaling_data[\"green_low\"].append(green_low)\n",
    "    scaling_data[\"green_high\"].append(green_high)\n",
    "    scaling_data[\"blue_low\"].append(blue_low)\n",
    "    scaling_data[\"blue_high\"].append(blue_high)\n",
    "\n",
    "    if True:\n",
    "        plot_hist(red, green, blue, fig=fig, ax=ax[:, idx])"
   ]
  },
  {
   "cell_type": "code",
   "execution_count": null,
   "metadata": {},
   "outputs": [],
   "source": [
    "scaling_data"
   ]
  },
  {
   "cell_type": "code",
   "execution_count": null,
   "metadata": {},
   "outputs": [],
   "source": [
    "scaling_params = {}\n",
    "\n",
    "scaling_params[\"red_low\"] = float(np.min(scaling_data[\"red_low\"]))\n",
    "scaling_params[\"red_high\"] = float(np.max(scaling_data[\"red_high\"]))\n",
    "scaling_params[\"green_low\"] = float(np.min(scaling_data[\"green_low\"]))\n",
    "scaling_params[\"green_high\"] = float(np.max(scaling_data[\"green_high\"]))\n",
    "scaling_params[\"blue_low\"] = float(np.min(scaling_data[\"blue_low\"]))\n",
    "scaling_params[\"blue_high\"] = float(np.max(scaling_data[\"blue_high\"]))\n",
    "\n",
    "scaling_params"
   ]
  },
  {
   "cell_type": "markdown",
   "metadata": {},
   "source": [
    "## Step 3: Image Processing"
   ]
  },
  {
   "cell_type": "code",
   "execution_count": null,
   "metadata": {},
   "outputs": [],
   "source": [
    "representation = \"pauli\"\n",
    "outdir = pathlib.Path(\"tmp-align\")\n",
    "outdir.mkdir(exist_ok=True, parents=True)\n",
    "\n",
    "for basepath in basepaths:\n",
    "    print(basepath.name)\n",
    "\n",
    "    bioqlk.make_rgb(\n",
    "        basepath,\n",
    "        # outfile,\n",
    "        representation=representation,\n",
    "        # scale: EScale = EScale.DB,\n",
    "        # alpha: int | bool | None = None,\n",
    "        scaling_method=bioqlk.EScalingMethod.MANUAL,\n",
    "        # kscale: float | None = None,\n",
    "        scaling_ranges=scaling_params,\n",
    "        # winsize: tuple[int, int] = (20, 4),\n",
    "        # decimate: bool = False,\n",
    "        # quick_test: bool = False,\n",
    "        phase_correction=[pc_hh, pc_hv, pc_vh, 0],\n",
    "        # float_file: str | None = None,\n",
    "        kmz_file=True,\n",
    "        # kmz_res: float = 0.001,\n",
    "        # png_file: str | None = None,\n",
    "        outdir=outdir,\n",
    "    )\n",
    "print(\"done\")"
   ]
  },
  {
   "cell_type": "markdown",
   "metadata": {},
   "source": [
    "(p313) antonio.valentino@ESR01114333 tmp % python3 ../bioqlk.py ~/data/biomass/first-image/SLCs/MED/BIO_S1_SCS__1S_20250523T102700_20250523T102852_C_G___M___C___T____F001_01_D9DXYJ --phase-corrections 90 90 -90 0 --kmz --outdir . \n",
    "INFO: scale_to_8bits - thresholds: [0.3, 0.7]\n",
    "INFO: scale_to_8bits - [low, high]: [-2.898, -1.615]\n",
    "INFO: scale_to_8bits - thresholds: [0.3, 0.7]\n",
    "INFO: scale_to_8bits - [low, high]: [-19.333, -17.953]\n",
    "INFO: scale_to_8bits - thresholds: [0.3, 0.7]\n",
    "INFO: scale_to_8bits - [low, high]: [-4.330, -3.063]\n",
    "Using band 4 of source image as alpha.\n",
    "Creating output file that is 11338P x 39083L.\n",
    "0...10...20...30...40...50...60...70...80...90...100 - done."
   ]
  }
 ],
 "metadata": {
  "kernelspec": {
   "display_name": "p313",
   "language": "python",
   "name": "python3"
  },
  "language_info": {
   "codemirror_mode": {
    "name": "ipython",
    "version": 3
   },
   "file_extension": ".py",
   "mimetype": "text/x-python",
   "name": "python",
   "nbconvert_exporter": "python",
   "pygments_lexer": "ipython3",
   "version": "3.13.3"
  }
 },
 "nbformat": 4,
 "nbformat_minor": 2
}
