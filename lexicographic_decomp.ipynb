{
 "cells": [
  {
   "cell_type": "markdown",
   "metadata": {},
   "source": [
    "# LEXICOGRAPHIC-DECOMPOSITION for PolSAR "
   ]
  },
  {
   "cell_type": "markdown",
   "metadata": {},
   "source": [
    "Copyright 2025 European Space Agency (ESA)\n",
    "\n",
    "Licensed under  ESA Software Community License Permissive (Type 3) – v2.4"
   ]
  },
  {
   "cell_type": "markdown",
   "metadata": {},
   "source": [
    "## Setup "
   ]
  },
  {
   "cell_type": "code",
   "execution_count": null,
   "metadata": {},
   "outputs": [],
   "source": [
    "%load_ext autoreload\n",
    "%autoreload 2"
   ]
  },
  {
   "cell_type": "code",
   "execution_count": null,
   "metadata": {},
   "outputs": [],
   "source": [
    "%matplotlib inline"
   ]
  },
  {
   "cell_type": "markdown",
   "metadata": {},
   "source": [
    "### Prerequisities"
   ]
  },
  {
   "cell_type": "code",
   "execution_count": null,
   "metadata": {},
   "outputs": [],
   "source": [
    "import os\n",
    "import pathlib\n",
    "\n",
    "import numpy as np\n",
    "from matplotlib import pyplot as plt"
   ]
  },
  {
   "cell_type": "code",
   "execution_count": null,
   "metadata": {},
   "outputs": [],
   "source": [
    "import bioqlk"
   ]
  },
  {
   "cell_type": "code",
   "execution_count": null,
   "metadata": {},
   "outputs": [],
   "source": [
    "import inspect\n",
    "import IPython.display"
   ]
  },
  {
   "cell_type": "markdown",
   "metadata": {},
   "source": [
    "### Read image\n",
    "Import image and read channels."
   ]
  },
  {
   "cell_type": "code",
   "execution_count": null,
   "metadata": {},
   "outputs": [],
   "source": [
    "basepath = pathlib.Path(\n",
    "    \"/Users/antonio.valentino/data/biomass/first-image/SLCs/MED/BIO_S1_SCS__1S_20250523T102350_20250523T102542_C_G___M___C___T____F001_01_D9DWE9\"\n",
    ")"
   ]
  },
  {
   "cell_type": "markdown",
   "metadata": {},
   "source": [
    "### Image processing parameters"
   ]
  },
  {
   "cell_type": "code",
   "execution_count": null,
   "metadata": {},
   "outputs": [],
   "source": [
    "winsz = [20, 4]  # Window size for smoothing \n",
    "gamma = 1 # Power scaling factor: Default (no scaling is for gamma = 1) If gamma > 1, brighter values are enhanced, if gamma < 1, darker values are enhanced \n",
    "\n",
    "threshold = 0.03\n",
    "# threshold = 0\n",
    "\n",
    "# Phase correction of 90 degrees as standard, can adjusted per channel: \n",
    "# pc_hh = np.deg2rad(-23.75)\n",
    "# pc_hv = np.deg2rad(113.46)\n",
    "# pc_vh = np.deg2rad(-89.7)\n",
    "\n",
    "# pc_hh = np.deg2rad(+23.75)\n",
    "# pc_hv = np.deg2rad(-113.46)\n",
    "# pc_vh = np.deg2rad(+89.7)\n",
    "\n",
    "pc_hh = np.deg2rad(+90)  # np.pi/2\n",
    "pc_hv = np.deg2rad(+90)  # np.pi/2\n",
    "pc_vh = np.deg2rad(-90)  # - np.pi/2\n",
    "\n",
    "# pc_hh = 0\n",
    "# pc_hv = 0\n",
    "# pc_vh = 0"
   ]
  },
  {
   "cell_type": "markdown",
   "metadata": {},
   "source": [
    "## Step 1: Compute Complex Signal from Amplitude and Phase with polar coordinates (a, phi)"
   ]
  },
  {
   "cell_type": "code",
   "execution_count": null,
   "metadata": {},
   "outputs": [],
   "source": [
    "IPython.display.Code(inspect.getsource(bioqlk.load_data), language=\"python\")"
   ]
  },
  {
   "cell_type": "code",
   "execution_count": null,
   "metadata": {},
   "outputs": [],
   "source": [
    "hh, hv, vh, vv, meta, gcps = bioqlk.load_data(basepath, return_metadata=True)"
   ]
  },
  {
   "cell_type": "code",
   "execution_count": null,
   "metadata": {},
   "outputs": [],
   "source": [
    "IPython.display.Code(inspect.getsource(bioqlk.fix_ical_phase), language=\"python\")"
   ]
  },
  {
   "cell_type": "code",
   "execution_count": null,
   "metadata": {},
   "outputs": [],
   "source": [
    "# Apply the phase correction\n",
    "hhc, hvc, vhc, vvc = bioqlk.fix_ical_phase(hh, hv, vh, vv, pc_hh, pc_hv, pc_vh, 0.)"
   ]
  },
  {
   "cell_type": "code",
   "execution_count": null,
   "metadata": {},
   "outputs": [],
   "source": [
    "hh.mean(), vv.mean(), hv.mean(), vh.mean()"
   ]
  },
  {
   "cell_type": "code",
   "execution_count": null,
   "metadata": {},
   "outputs": [],
   "source": [
    "hhc.mean(), vvc.mean(), hvc.mean(), vhc.mean()"
   ]
  },
  {
   "cell_type": "markdown",
   "metadata": {},
   "source": [
    "## Step 2: Lexicographic decomposition: \n",
    "\n",
    "* Red channel: |hh| ** 2\n",
    "* Green channel: 0.5 * (|hv| ** 2 + |vh| ** 2)\n",
    "* Blue channel: |vv| ** 2"
   ]
  },
  {
   "cell_type": "code",
   "execution_count": null,
   "metadata": {},
   "outputs": [],
   "source": [
    "IPython.display.Code(inspect.getsource(bioqlk.lexicographic), language=\"python\")"
   ]
  },
  {
   "cell_type": "code",
   "execution_count": null,
   "metadata": {},
   "outputs": [],
   "source": [
    "k_1, k_2, k_3 = bioqlk.lexicographic(hh, hv, vh, vv, scale=bioqlk.EScale.DB)"
   ]
  },
  {
   "cell_type": "code",
   "execution_count": null,
   "metadata": {},
   "outputs": [],
   "source": [
    "k_1c, k_2c, k_3c = bioqlk.lexicographic(hhc, hvc, vhc, vvc, scale=bioqlk.EScale.DB)"
   ]
  },
  {
   "cell_type": "code",
   "execution_count": null,
   "metadata": {},
   "outputs": [],
   "source": [
    "k_1.mean(), k_2.mean(), k_3.mean()"
   ]
  },
  {
   "cell_type": "code",
   "execution_count": null,
   "metadata": {},
   "outputs": [],
   "source": [
    "k_1c.mean(), k_2c.mean(), k_3c.mean()"
   ]
  },
  {
   "cell_type": "code",
   "execution_count": null,
   "metadata": {},
   "outputs": [],
   "source": [
    "fig, ax = plt.subplots(3, sharex=True)\n",
    "\n",
    "ax[0].hist(k_1.ravel(), 500, label=\"k_1\")\n",
    "# ax[0].set_title(\"k_1\")\n",
    "ax[0].grid()\n",
    "ax[0].legend()\n",
    "ax[0].set_title(\"Lexicographic\")\n",
    "\n",
    "ax[1].hist(k_2.ravel(), 500, label=\"k_2\")\n",
    "# ax[1].set_title(\"k_2\")\n",
    "ax[1].grid()\n",
    "ax[1].legend()\n",
    "\n",
    "ax[2].hist(k_3.ravel(), 500, label=\"k_3\")\n",
    "# ax[2].set_title(\"k_3\")\n",
    "ax[2].grid()\n",
    "ax[2].legend()\n",
    "ax[2].set_xlabel(\"dB\")"
   ]
  },
  {
   "cell_type": "code",
   "execution_count": null,
   "metadata": {},
   "outputs": [],
   "source": [
    "fig, ax = plt.subplots(3, sharex=True)\n",
    "\n",
    "ax[0].hist(k_1c.ravel(), 500, label=\"k_1\")\n",
    "# ax[0].set_title(\"k_1\")\n",
    "ax[0].grid()\n",
    "ax[0].legend()\n",
    "ax[0].set_title(\"Lexicographic with polarimetric channels correction\")\n",
    "\n",
    "ax[1].hist(k_2c.ravel(), 500, label=\"k_2\")\n",
    "# ax[1].set_title(\"k_2\")\n",
    "ax[1].grid()\n",
    "ax[1].legend()\n",
    "\n",
    "ax[2].hist(k_3c.ravel(), 500, label=\"k_3\")\n",
    "# ax[2].set_title(\"k_3\")\n",
    "ax[2].grid()\n",
    "ax[2].legend()\n",
    "ax[2].set_xlabel(\"dB\")"
   ]
  },
  {
   "cell_type": "markdown",
   "metadata": {},
   "source": [
    "## Step 3: Image Processing"
   ]
  },
  {
   "cell_type": "markdown",
   "metadata": {},
   "source": [
    "### 3.1 Smooth\n",
    "\n",
    "Scipy.ndimage's uniform filter: \n",
    "* has no NaNn handling ->  np.nan_to_num \n",
    "\n",
    "* mode parameter: `nearest`: (a a a a | a b c d | d d d d) -> The input is extended by replicating the last pixel."
   ]
  },
  {
   "cell_type": "code",
   "execution_count": null,
   "metadata": {},
   "outputs": [],
   "source": [
    "IPython.display.Code(inspect.getsource(bioqlk.smooth_nan), language=\"python\")"
   ]
  },
  {
   "cell_type": "code",
   "execution_count": null,
   "metadata": {},
   "outputs": [],
   "source": [
    "# Smooth \n",
    "k_1_smoothed = bioqlk.smooth_nan(k_1, winsz)\n",
    "k_2_smoothed = bioqlk.smooth_nan(k_2, winsz)\n",
    "k_3_smoothed = bioqlk.smooth_nan(k_3, winsz)"
   ]
  },
  {
   "cell_type": "code",
   "execution_count": null,
   "metadata": {},
   "outputs": [],
   "source": [
    "# Smooth \n",
    "k_1c_smoothed = bioqlk.smooth_nan(k_1c, winsz)\n",
    "k_2c_smoothed = bioqlk.smooth_nan(k_2c, winsz)\n",
    "k_3c_smoothed = bioqlk.smooth_nan(k_3c, winsz)"
   ]
  },
  {
   "cell_type": "markdown",
   "metadata": {},
   "source": [
    "### 3.2 Scaling\n",
    "* Rescale values into range 0 - 255: x_norm = 255* (x-xmin) / (xmax - xmin) \n",
    "* Maybe we should do a percentile normalization to deal with outliers "
   ]
  },
  {
   "cell_type": "code",
   "execution_count": null,
   "metadata": {},
   "outputs": [],
   "source": [
    "IPython.display.Code(inspect.getsource(bioqlk.scale_to_8bits), language=\"python\")"
   ]
  },
  {
   "cell_type": "code",
   "execution_count": null,
   "metadata": {},
   "outputs": [],
   "source": [
    "vmin, vmax = bioqlk.quantile_scaling(k_1_smoothed, threshold=threshold)\n",
    "k_1_scaled = bioqlk.scale_to_8bits(k_1_smoothed, vmin=vmin, vmax=vmax)\n",
    "vmin, vmax = bioqlk.quantile_scaling(k_2_smoothed, threshold=threshold)\n",
    "k_2_scaled = bioqlk.scale_to_8bits(k_2_smoothed, vmin=vmin, vmax=vmax)\n",
    "vmin, vmax = bioqlk.quantile_scaling(k_3_smoothed, threshold=threshold)\n",
    "k_3_scaled = bioqlk.scale_to_8bits(k_3_smoothed, vmin=vmin, vmax=vmax)"
   ]
  },
  {
   "cell_type": "code",
   "execution_count": null,
   "metadata": {},
   "outputs": [],
   "source": [
    "vmin, vmax = bioqlk.quantile_scaling(k_1c_smoothed, threshold=threshold)\n",
    "k_1c_scaled = bioqlk.scale_to_8bits(k_1c_smoothed, vmin=vmin, vmax=vmax)\n",
    "vmin, vmax = bioqlk.quantile_scaling(k_2c_smoothed, threshold=threshold)\n",
    "k_2c_scaled = bioqlk.scale_to_8bits(k_2c_smoothed, vmin=vmin, vmax=vmax)\n",
    "vmin, vmax = bioqlk.quantile_scaling(k_3c_smoothed, threshold=threshold)\n",
    "k_3c_scaled = bioqlk.scale_to_8bits(k_3c_smoothed, vmin=vmin, vmax=vmax)"
   ]
  },
  {
   "cell_type": "markdown",
   "metadata": {},
   "source": [
    "### 3.3 Other things we can do \n",
    "\n"
   ]
  },
  {
   "cell_type": "markdown",
   "metadata": {},
   "source": [
    "## Step 4: Write and plot data"
   ]
  },
  {
   "cell_type": "markdown",
   "metadata": {},
   "source": [
    "### 4.1 Compose RGB image"
   ]
  },
  {
   "cell_type": "code",
   "execution_count": null,
   "metadata": {},
   "outputs": [],
   "source": [
    "IPython.display.Code(inspect.getsource(bioqlk.to_rgb_array), language=\"python\")"
   ]
  },
  {
   "cell_type": "code",
   "execution_count": null,
   "metadata": {},
   "outputs": [],
   "source": [
    "rgb = bioqlk.to_rgb_array(k_1_scaled, k_2_scaled, k_3_scaled)"
   ]
  },
  {
   "cell_type": "code",
   "execution_count": null,
   "metadata": {},
   "outputs": [],
   "source": [
    "rgbc = bioqlk.to_rgb_array(k_1c_scaled, k_2c_scaled, k_3c_scaled)"
   ]
  },
  {
   "cell_type": "markdown",
   "metadata": {},
   "source": [
    "### 4.2 Plot image"
   ]
  },
  {
   "cell_type": "code",
   "execution_count": null,
   "metadata": {},
   "outputs": [],
   "source": [
    "#Rotate image for better visulization in notebook\n",
    "# rgb_rot = np.rot90(rgb, k=1, axes=(0, 1))\n",
    "# rgbc_rot = np.rot90(rgbc, k=1, axes=(0, 1))\n",
    "\n",
    "fig, ax = plt.subplots(1, 2, figsize=(10, 12))\n",
    "ax[0].imshow(rgb, aspect=\"auto\")  #, origin=\"upper\")  # , interpolation=\"nearest\"\n",
    "ax[0].axis('off')\n",
    "ax[1].imshow(rgbc, aspect=\"auto\")  #, origin=\"upper\")  # , interpolation=\"nearest\"\n",
    "ax[1].axis('off')\n"
   ]
  },
  {
   "cell_type": "markdown",
   "metadata": {},
   "source": [
    "### 4.3  Write image to geotiff"
   ]
  },
  {
   "cell_type": "code",
   "execution_count": null,
   "metadata": {},
   "outputs": [],
   "source": [
    "IPython.display.Code(inspect.getsource(bioqlk.save_rgb), language=\"python\")"
   ]
  },
  {
   "cell_type": "code",
   "execution_count": null,
   "metadata": {},
   "outputs": [],
   "source": [
    "# out_filename = pathlib.Path(basepath.name + \"_pauli_rgb.tiff\")\n",
    "out_filename = basepath.parent / (basepath.name + \"_pauli_rgb.tiff\")\n",
    "\n",
    "bioqlk.save_rgb(rgb, out_filename, metadata=meta, gcps=gcps)"
   ]
  },
  {
   "cell_type": "markdown",
   "metadata": {},
   "source": [
    "### 4.4 Generate KMZ using gdalwarp CLI utility\n",
    "\n",
    "```\n",
    "$ gdalwarp -t_srs wgs84 -of KMLSUPEROVERLAY -co format=png ../data_old/BIO_S1_SCS__1S_20250522T095714_20250522T095744_C_G___M___C___T____F001_01_D91R78_pauli_rgb.tiff BIO_S1_SCS__1S_20250522T095714_20250522T095744_C_G___M___C___T____F001_01_D91R78_pauli_rgb.kmz\n",
    "```\n",
    "\n",
    "@TODO: do it via rasterio API"
   ]
  },
  {
   "cell_type": "code",
   "execution_count": null,
   "metadata": {},
   "outputs": [],
   "source": [
    "IPython.display.Code(inspect.getsource(bioqlk.save_kmz), language=\"python\")"
   ]
  },
  {
   "cell_type": "code",
   "execution_count": null,
   "metadata": {},
   "outputs": [],
   "source": [
    "if False:\n",
    "    out_filename_kmz = out_filename.with_suffix(\".kmz\")\n",
    "    if out_filename_kmz.exists():\n",
    "        os.unlink(out_filename_kmz)\n",
    "\n",
    "    bioqlk.save_kmz(out_filename, out_filename_kmz)"
   ]
  },
  {
   "cell_type": "markdown",
   "metadata": {},
   "source": [
    "### 4.4: We can interactively view this image on the map with folium\n",
    "TODO"
   ]
  },
  {
   "cell_type": "markdown",
   "metadata": {},
   "source": []
  }
 ],
 "metadata": {
  "kernelspec": {
   "display_name": "p313",
   "language": "python",
   "name": "python3"
  },
  "language_info": {
   "codemirror_mode": {
    "name": "ipython",
    "version": 3
   },
   "file_extension": ".py",
   "mimetype": "text/x-python",
   "name": "python",
   "nbconvert_exporter": "python",
   "pygments_lexer": "ipython3",
   "version": "3.13.3"
  }
 },
 "nbformat": 4,
 "nbformat_minor": 2
}
