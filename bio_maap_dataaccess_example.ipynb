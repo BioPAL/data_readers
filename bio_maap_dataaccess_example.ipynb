{
 "cells": [
  {
   "cell_type": "markdown",
   "id": "17b65c7f",
   "metadata": {},
   "source": [
    "(c) European Space Agency (ESA) Licensed under ESA Software Community Licence Permissive (Type 3) – v2.4\n",
    "\n",
    "#### **An introduction on Biomass data**\n",
    "Combine Biomass data with other datasets from MAAP catalog with [maap-py](https://github.com/MAAP-Project/maap-py) (documentation and tutorials [maap-science](https://github.com/MAAP-Project/maap-documentation/tree/develop/docs/source/science) and [maap-technical](https://github.com/MAAP-Project/maap-documentation/tree/develop/docs/source/technical_tutorials)).\n",
    "\n",
    "Users can generate and retrieve a valid token here:\n",
    "👉 https://portal.maap.eo.esa.int/ini/services/auth/token/"
   ]
  },
  {
   "cell_type": "markdown",
   "id": "6f177d87",
   "metadata": {},
   "source": [
    "**Prerequisities**"
   ]
  },
  {
   "cell_type": "code",
   "execution_count": null,
   "id": "b09e42b4-975a-45de-9a5b-cfbd28869bd9",
   "metadata": {},
   "outputs": [],
   "source": [
    "import os\n",
    "import pathlib\n",
    "from tqdm import tqdm\n",
    "from io import BytesIO\n",
    "import xml.etree.ElementTree as ET\n",
    "import requests\n",
    "import fsspec\n",
    "from PIL import Image\n",
    "import matplotlib.pyplot as plt\n",
    "import pandas as pd\n",
    "import numpy as np\n",
    "import rasterio as rio\n",
    "from rasterio.windows import Window\n",
    "import geopandas as gpd\n",
    "from shapely.geometry import Polygon\n",
    "import fiona\n",
    "\n",
    "fiona.supported_drivers[\"KML\"] = \"rw\"  # Enable kml driver\n",
    "import folium\n",
    "from pystac_client import Client"
   ]
  },
  {
   "cell_type": "markdown",
   "id": "1bd0febb-28fa-46c7-a482-8dd2633445a0",
   "metadata": {},
   "source": [
    "**ESA MAAP (STAC) Catalog API**"
   ]
  },
  {
   "cell_type": "code",
   "execution_count": null,
   "id": "8bd1e4d3-d923-40a8-a50d-fd8b2c9ad47a",
   "metadata": {},
   "outputs": [],
   "source": [
    "catalog_url = \"https://catalog.maap.eo.esa.int/catalogue/\"\n",
    "catalog = Client.open(catalog_url)"
   ]
  },
  {
   "cell_type": "code",
   "execution_count": null,
   "id": "3abc9968",
   "metadata": {},
   "outputs": [],
   "source": [
    "# find all available collections in MAAP\n",
    "collections = catalog.get_collections()\n",
    "# sorted([c.id for c in collections])"
   ]
  },
  {
   "cell_type": "markdown",
   "id": "6d3536db",
   "metadata": {},
   "source": [
    "**Filter** - allows you to search based on different metadata parameters. To understand which queryables exist you can visit: [Queryables](https://catalog.maap.eo.esa.int/catalogue/collections/BiomassLevel1aIOC/queryables). \\\n",
    "Examples include: \n",
    "* productType\n",
    "* frame \n",
    "* processingLevel\n",
    "* instrument\n",
    "* orbitNumber \n",
    "...\n",
    "\n",
    "**datetime** 2 dots (..) can be used for both start and end to indicated unbounded queries \\\n",
    "**bbox** is defined by the bottom left corner (longmin latmin) and the top right corner coordinates (longmax latmax) \\\n",
    "**max_items** limit to a few rows \\"
   ]
  },
  {
   "cell_type": "code",
   "execution_count": null,
   "id": "65819280",
   "metadata": {},
   "outputs": [],
   "source": [
    "# find all biommass collections\n",
    "results = catalog.collection_search(\n",
    "    filter=\"platform='Biomass'\",\n",
    "    datetime=\"2025-05-01T00:00:00.000Z/..\",\n",
    ")\n",
    "print(f\"{results.matched()} collections found.\")\n",
    "\n",
    "data = results.collection_list_as_dict()\n",
    "df = pd.json_normalize(data, record_path=[\"collections\"]).sort_values(\n",
    "    by=\"title\", ignore_index=True\n",
    ")\n",
    "df[[\"id\", \"title\", \"extent.temporal.interval\", \"extent.spatial.bbox\"]]"
   ]
  },
  {
   "cell_type": "code",
   "execution_count": null,
   "id": "479e62a9-94f6-40d6-abe1-d9a45261a4fd",
   "metadata": {},
   "outputs": [],
   "source": [
    "# open specific collection\n",
    "search = catalog.search(\n",
    "    collections=[\"BiomassLevel1aIOC\"],\n",
    "    filter=\"productType = 'S1_SCS__1S' and orbitDirection = 'ASCENDING'\",  # and orbitDirection = 'ASCENDING'\n",
    "    # bbox = [0, -20, 10, -10],\n",
    "    # datetime=[\"2025-08-01T00:00:00Z\", \"2025-08-01T04:00:00Z\"],\n",
    "    datetime=[\"2025-09-14T08:00:00Z\", \"2025-09-14T10:00:00Z\"],\n",
    "    # sortby=[{\"field\": \"datetime\", \"direction\": \"asc\"}], # sort by asc datetime, not supported (01.09.2025)!\n",
    "    method=\"GET\",\n",
    "    max_items=10,\n",
    ")\n",
    "\n",
    "items = list(search.items())\n",
    "# items = sorted(items, key=lambda item: item.datetime)  # sort by asc datetime\n",
    "print(f\"Accessing {len(items)} items (limited by max_items).\")\n",
    "print(f\"{search.matched()} items found that matched the query.\")"
   ]
  },
  {
   "cell_type": "markdown",
   "id": "04a16204",
   "metadata": {},
   "source": [
    "### Results"
   ]
  },
  {
   "cell_type": "markdown",
   "id": "eea4c2ff",
   "metadata": {},
   "source": [
    "Understanding Assets in the ESA MAAP STAC Catalog: Each granule (one Biomass acquisition per product) includes multiple **assets**, which are different files that serve distinct purposes. These assets can include preview images, scientific data, metadata, and more.\n",
    "\n",
    "**Types of assets in a granule**:\n",
    "\n",
    "| **Asset Name**           | **Description**                           | **File type** | **Purpose / Use**                                    |\n",
    "| ------------------------ | ----------------------------------------- | ------------- | ---------------------------------------------------- |\n",
    "| assets.thumbnail.href    | Preview image                             | .png          | Quick visual inspection                              |\n",
    "| assets.quicklook_1.href  | Preview georeferenced image               | .kml          | Quick visual inspection                              |\n",
    "| assets.enclosure_13.href | Absolute values products (hh, hv, vh, vv) | .tiff         | For load into tmp memory                             |\n",
    "| assets.enclosure_14.href | Phase values products (hh, hv, vh, vv)    | .tiff         | For load into tmp memory                             |\n",
    "| assets.quicklook_1.href  | Complete zipped product bundle            | .zip          | For full download (not recommended unless necessary) |\n",
    "\n",
    "**Tips**: \n",
    "\n",
    "- **Want a quick look?** Use the quicklook or thumbnail to preview the data\n",
    "- **Need to analyze?** Work with the enclosure_13 and ecnlosure_14 (.tiff files), cf. next cells\n",
    "- **Don't need everything?** Avoid the .zip unless you really need to download all files"
   ]
  },
  {
   "cell_type": "code",
   "execution_count": null,
   "id": "8cf64a36",
   "metadata": {},
   "outputs": [],
   "source": [
    "# show product properties/accessible data and metadata\n",
    "search.item_collection()[-1]"
   ]
  },
  {
   "cell_type": "code",
   "execution_count": null,
   "id": "b176b4be",
   "metadata": {},
   "outputs": [],
   "source": [
    "# convert to df for easy visualisation\n",
    "data = search.item_collection_as_dict()\n",
    "\n",
    "df = pd.json_normalize(data, record_path=[\"features\"])[\n",
    "    [\n",
    "        \"id\",  # unique id\n",
    "        \"properties.eopf:datatake_id\",  # not unique id\n",
    "        \"properties.product:type\",\n",
    "        \"properties.updated\",\n",
    "        \"properties.sat:absolute_orbit\",\n",
    "        \"properties.sat:orbit_state\",\n",
    "        \"assets.thumbnail.href\",\n",
    "        \"assets.quicklook_1.href\",\n",
    "        \"assets.enclosure_13.href\",\n",
    "        \"assets.enclosure_14.href\",\n",
    "        \"assets.product.href\",\n",
    "    ]\n",
    "]\n",
    "\n",
    "# Renaming the assets for\n",
    "df.rename(\n",
    "    columns={\n",
    "        \"properties.eopf:datatake_id\": \"dt_id\",\n",
    "        \"properties.product:type\": \"product_type\",\n",
    "        \"properties.updated\": \"last_modified\",\n",
    "        \"properties.sat:absolute_orbit\": \"abs_orbit\",\n",
    "        \"properties.sat:orbit_state\": \"orbit_state\",\n",
    "        \"assets.thumbnail.href\": \"quicklook\",\n",
    "        \"assets.quicklook_1.href\": \"quicklook_kml\",\n",
    "        \"assets.enclosure_13.href\": \"abs_product\",\n",
    "        \"assets.enclosure_14.href\": \"phase_product\",\n",
    "        \"assets.product.href\": \"zipped_product\",\n",
    "    },\n",
    "    inplace=True,\n",
    ")\n",
    "\n",
    "df.sort_values(by=\"id\", ascending=True, ignore_index=True, inplace=True)\n",
    "df"
   ]
  },
  {
   "cell_type": "markdown",
   "id": "f9d42636",
   "metadata": {},
   "source": [
    "**Quicklook of the data**"
   ]
  },
  {
   "cell_type": "code",
   "execution_count": null,
   "id": "8e2b1093",
   "metadata": {},
   "outputs": [],
   "source": [
    "fig, axes = plt.subplots(1, len(df), figsize=(2 * len(df), 10), sharey=True)\n",
    "\n",
    "for ax, row in zip(axes, df.iterrows()):\n",
    "    response = requests.get(row[1].quicklook)\n",
    "    img = Image.open(BytesIO(response.content))\n",
    "    ax.imshow(img)\n",
    "    ax.set_title(row[1].dt_id, fontsize=10)\n",
    "    # ax.axis(\"off\")\n",
    "\n",
    "plt.tight_layout()\n",
    "plt.show()"
   ]
  },
  {
   "cell_type": "markdown",
   "id": "bb0cbe60",
   "metadata": {},
   "source": [
    "**Stream and plot data**\n",
    "> *Generate your token from [MAAP](https://portal.maap.eo.esa.int/ini/services/auth/token/index.php) (01.09.2025 valid only for 10h!)*"
   ]
  },
  {
   "cell_type": "code",
   "execution_count": null,
   "id": "fe55a870",
   "metadata": {},
   "outputs": [],
   "source": [
    "def read_gpd_streaming(url, token):\n",
    "    fs = fsspec.filesystem(\"https\", headers={\"Authorization\": f\"Bearer {token}\"})\n",
    "    with fs.open(url, \"rb\") as f:\n",
    "        # gdf = gpd.read_file(f) # not so simple (datastrcuture not recognized by gpd)...\n",
    "        kml_data = f.read()  # get file from HTTPS using token\n",
    "        root = ET.fromstring(kml_data)  # parse kml\n",
    "        ns = {\n",
    "            \"kml\": \"http://www.opengis.net/kml/2.2\",\n",
    "            \"gx\": \"http://www.google.com/kml/ext/2.2\",\n",
    "        }  # define namespaces\n",
    "        latlonquads = root.findall(\".//gx:LatLonQuad\", ns)  # get gx:LatLonQuad elements\n",
    "\n",
    "        polygons = []\n",
    "        for quad in latlonquads:\n",
    "            coords_elem = quad.find(\"coordinates\")  # find coords\n",
    "            if coords_elem is None:\n",
    "                continue\n",
    "            coords_text = coords_elem.text.strip()\n",
    "            coord_pairs = coords_text.split()\n",
    "            coords = [tuple(map(float, pair.split(\",\"))) for pair in coord_pairs]\n",
    "            if len(coords) >= 4:  # should be a closed polygon\n",
    "                polygons.append(Polygon(coords))\n",
    "\n",
    "        gdf = gpd.GeoDataFrame(\n",
    "            {\"name\": \"unnamed\", \"geometry\": polygons}, crs=\"EPSG:4326\"\n",
    "        )\n",
    "\n",
    "        return gdf\n",
    "\n",
    "\n",
    "def read_rio_streaming(url, token, subset=False):\n",
    "    fs = fsspec.filesystem(\"https\", headers={\"Authorization\": f\"Bearer {token}\"})\n",
    "\n",
    "    with fs.open(url, \"rb\") as f:\n",
    "        with rio.open(f) as src:\n",
    "            if subset:\n",
    "                window = Window(\n",
    "                    col_off=subset[0],\n",
    "                    row_off=subset[1],\n",
    "                    width=subset[2],\n",
    "                    height=subset[3],\n",
    "                )\n",
    "                bands = [src.read(i + 1, window=window) for i in range(src.count)]\n",
    "                gcps = src.get_gcps()  # image encoded in GCP\n",
    "            else:\n",
    "                bands = [src.read(i + 1) for i in range(src.count)]\n",
    "                gcps = src.get_gcps()  # image encoded in GCP\n",
    "\n",
    "        return src, bands"
   ]
  },
  {
   "cell_type": "code",
   "execution_count": null,
   "id": "42c97c55-4621-427f-bc44-9414bb18feee",
   "metadata": {},
   "outputs": [],
   "source": [
    "# get your token\n",
    "# Users can generate and retrieve the token here:\n",
    "#  https://portal.maap.eo.esa.int/ini/services/auth/token/\n",
    "\n",
    "_TOKEN = \"\"  # optional\n",
    "if pathlib.Path(\"token.txt\").exists():\n",
    "    print(\"Re-using token\")\n",
    "    with open(\"token.txt\", \"rt\") as f:\n",
    "        token = f.read().strip().replace(\"\\n\", \"\")\n",
    "else:\n",
    "    token = _TOKEN"
   ]
  },
  {
   "cell_type": "code",
   "execution_count": null,
   "id": "2aed572e-53e2-400a-9802-f513d3eb8b4a",
   "metadata": {},
   "outputs": [],
   "source": [
    "# sample\n",
    "img_n = 5\n",
    "abs_img_url = df.loc[img_n, \"abs_product\"]\n",
    "kml_url = df.loc[img_n, \"quicklook_kml\"]\n",
    "zip_url = df.loc[img_n, \"zipped_product\"]\n",
    "print(abs_img_url)\n",
    "print(kml_url)"
   ]
  },
  {
   "cell_type": "code",
   "execution_count": null,
   "id": "ff0f175e",
   "metadata": {},
   "outputs": [],
   "source": [
    "# open kml\n",
    "gdf = read_gpd_streaming(kml_url, token)\n",
    "\n",
    "center = gdf.geometry.unary_union.centroid\n",
    "m = folium.Map(location=[center.y, center.x], zoom_start=8)\n",
    "folium.GeoJson(gdf).add_to(m)\n",
    "m"
   ]
  },
  {
   "cell_type": "code",
   "execution_count": null,
   "id": "5facf342",
   "metadata": {},
   "outputs": [],
   "source": [
    "# --- load a slice of the scene\n",
    "subset = (0, 200, 1000, 1500)\n",
    "src, bands = read_rio_streaming(abs_img_url, token, subset=None)"
   ]
  },
  {
   "cell_type": "code",
   "execution_count": null,
   "id": "e0e9d3b1",
   "metadata": {},
   "outputs": [],
   "source": [
    "# --- plot the images\n",
    "fig, axs = plt.subplots(4,1, figsize=(30,10))\n",
    "polarisations = ['HH', 'HV', 'VH', 'VV']\n",
    "for ((i, ax), p) in zip(enumerate(axs.flatten()), polarisations):\n",
    "    ax.imshow(np.rot90(bands[i]), vmin=0, vmax=2 * np.nanmean(bands[i]), cmap=\"gray\", aspect='equal', interpolation='auto', )\n",
    "    ax.set_title(p)\n",
    "    ax.set_xticks([])\n",
    "    ax.set_yticks([])\n",
    "\n",
    "plt.tight_layout(pad=1.0, w_pad=0.5, h_pad=1.0)\n",
    "plt.show()"
   ]
  },
  {
   "cell_type": "markdown",
   "id": "d29ce1c7",
   "metadata": {},
   "source": [
    "**Download data**"
   ]
  },
  {
   "cell_type": "code",
   "execution_count": null,
   "id": "cd9ff1fe-cd2e-4674-9d6f-3a4d6783d851",
   "metadata": {},
   "outputs": [],
   "source": [
    "def download_file_with_bearer_token(url, token, folder_path, disable_bar=False):\n",
    "    try:\n",
    "        headers = {\"Authorization\": f\"Bearer {token}\"}\n",
    "        response = requests.get(url, headers=headers, stream=True)\n",
    "        response.raise_for_status()  # Raise an exception for bad status codes\n",
    "        file_size = int(response.headers.get(\"content-length\", 0))\n",
    "\n",
    "        chunk_size = 8 * 1024 * 1024  # Byes - 1MiB\n",
    "        file_path = (\n",
    "            url.rsplit(\"/\", 1)[-1]\n",
    "            if \".\" in url.rsplit(\"/\", 1)[-1]\n",
    "            else url.rsplit(\"/\", 1)[-1] + \".zip\"\n",
    "        )\n",
    "        os.makedirs(folder_path, exist_ok=True)\n",
    "        file_path = folder_path + file_path\n",
    "        with open(file_path, \"wb\") as f, tqdm(\n",
    "            desc=file_path,\n",
    "            total=file_size,\n",
    "            unit=\"iB\",\n",
    "            unit_scale=True,\n",
    "            unit_divisor=1024,\n",
    "            disable=disable_bar,\n",
    "        ) as bar:\n",
    "            for chunk in response.iter_content(chunk_size=chunk_size):\n",
    "                read_size = f.write(chunk)\n",
    "                bar.update(read_size)\n",
    "\n",
    "        if disable_bar:\n",
    "            print(f\"File downloaded successfully to {file_path}\")\n",
    "\n",
    "    except requests.exceptions.RequestException as e:\n",
    "        print(f\"Error downloading file: {e}\")"
   ]
  },
  {
   "cell_type": "code",
   "execution_count": null,
   "id": "b645a3de",
   "metadata": {},
   "outputs": [],
   "source": [
    "folder_path = \"maap-data/\"\n",
    "download_file_with_bearer_token(abs_img_url, token, folder_path)\n",
    "download_file_with_bearer_token(kml_url, token, folder_path)\n",
    "download_file_with_bearer_token(zip_url, token, folder_path)"
   ]
  }
 ],
 "metadata": {
  "kernelspec": {
   "display_name": "Python 3 (ipykernel)",
   "language": "python",
   "name": "python3"
  },
  "language_info": {
   "codemirror_mode": {
    "name": "ipython",
    "version": 3
   },
   "file_extension": ".py",
   "mimetype": "text/x-python",
   "name": "python",
   "nbconvert_exporter": "python",
   "pygments_lexer": "ipython3",
   "version": "3.10.17"
  }
 },
 "nbformat": 4,
 "nbformat_minor": 5
}
