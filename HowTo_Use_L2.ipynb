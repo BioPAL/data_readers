{
 "cells": [
  {
   "cell_type": "markdown",
   "id": "6e696c09-f5bc-4451-912f-81be77850b1c",
   "metadata": {
    "tags": []
   },
   "source": [
    "# 🛰️ BIOMASS L2 Product Analysis and Visualization 🌳\n",
    "\n",
    "(c) European Space Agency (ESA) Licensed under ESA Software Community Licence Permissive (Type 3) – v2.4\n",
    "\n",
    "# Execution and scope\n",
    "The following libraries are needed to execute this notebook: rasterio (gdal), netCDF4, numpy, scipy, matplotlib, xml. Environment files tested on win/linux machines can be provided upon request (just send an email to muriel.pinheiro@esa.int) \n",
    "\n",
    "#### The aim of the notebook\n",
    "This notebook is intended to demonstrate the processing and visualization of BIOMASS L2 products, including:\n",
    "- Reading and visualizing COG-formatted SAR measurement data (data and quality)\n",
    "- Extracting and displaying LUT (Look-Up Table) variables from the annotated NetCDF datasets for L2A\n",
    "\n",
    "#### Replication of notebook\n",
    "This notebook can be replicated/executed starting from the shared TDS. For further details, you can consult the shared documentation or simply send an email to muriel.pinheiro@esa.int\n",
    "\n",
    "## 🗂️ Index\n",
    "\n",
    "1. [🌿 Section 1: L2A FH](#🌿-section-1-l2a-fh)\n",
    "2. [🌳 Section 2: L2A FD](#🌳-section-2-l2a-fd)\n",
    "3. [🍃 Section 3: L2A GN](#🍃-section-3-l2a-gn)\n",
    "4. [🌲 Section 4: L2B FH](#🌲-section-4-l2b-fh)\n",
    "5. [🌴 Section 5: L2B FD](#🌴-section-5-l2b-fd)\n",
    "6. [🎋 Section 6: L2B AGB](#🎋-section-6-l2b-agb)\n"
   ]
  },
  {
   "cell_type": "code",
   "execution_count": null,
   "id": "eae8de62-f017-4f13-a45a-74dfb070d53d",
   "metadata": {
    "tags": []
   },
   "outputs": [],
   "source": [
    "%matplotlib inline"
   ]
  },
  {
   "cell_type": "code",
   "execution_count": null,
   "id": "54b239f6-96ab-4972-95e1-a5ebcef8a467",
   "metadata": {
    "tags": []
   },
   "outputs": [],
   "source": [
    "import os\n",
    "import rasterio\n",
    "import netCDF4\n",
    "import numpy as np\n",
    "import matplotlib.pyplot as plt\n",
    "import warnings\n",
    "import BiomassProduct \n",
    "from pathlib import Path\n",
    "warnings.filterwarnings('ignore', category=DeprecationWarning)\n",
    "print()\n",
    "folder_TDS =Path(\"../L2A/\")\n",
    "print(os.listdir(folder_TDS) )\n",
    "print(folder_TDS)\n",
    "print(\"CWD:\", Path.cwd())\n",
    "\n",
    "# Cerca le tre cartelle L2A\n",
    "print(\"FH dirs:\", list(folder_TDS.glob(\"BIO_FP_FH__L2A_*\")))\n",
    "print(\"FD dirs:\", list(folder_TDS.glob(\"BIO_FP_FD__L2A_*\")))\n",
    "print(\"GN dirs:\", list(folder_TDS.glob(\"BIO_FP_GN__L2A_*\")))\n",
    "\n",
    "\n",
    "paths = BiomassProduct.L2AProductPaths(folder_TDS)  \n",
    "\n",
    "path_FH=Path(\"../L2A/BIO_FP_TFH_L2A_20170125T163833_20170206T163906_I_G03_M03_C___T000_F001_02_D2YZZR\")\n",
    "product_fd_l2a = BiomassProduct.l2a_fd(paths.fd)\n",
    "product_gn_l2a = BiomassProduct.l2a_gn(paths.gn)    \n",
    "product_fh_l2a = BiomassProduct.l2a_fh(paths.fh)\n"
   ]
  },
  {
   "cell_type": "markdown",
   "id": "c01ec54d-1df2-409e-871a-ca3d4ae034c5",
   "metadata": {
    "tags": []
   },
   "source": [
    "## 🌿 Section 1: L2A FH"
   ]
  },
  {
   "cell_type": "markdown",
   "id": "43aeae80-3776-41a8-8ddc-a3e08421b6b7",
   "metadata": {
    "tags": []
   },
   "source": [
    "#### Section 1.1: L2A FH COG "
   ]
  },
  {
   "cell_type": "markdown",
   "id": "47f8190f-9270-4461-95e5-57ea66199724",
   "metadata": {},
   "source": [
    "Get the COGs in the measurement folder"
   ]
  },
  {
   "cell_type": "code",
   "execution_count": null,
   "id": "100a18d2-0197-4d01-a7d7-2ce4cbaffb77",
   "metadata": {
    "tags": []
   },
   "outputs": [],
   "source": [
    "l2a_fh = product_fh_l2a.measurement_file\n",
    "l2a_fh_quality = product_fh_l2a.measurement_quality_file"
   ]
  },
  {
   "cell_type": "markdown",
   "id": "79ba0768-f577-41dd-a597-64e7ccefef63",
   "metadata": {},
   "source": [
    "plot FH and its quality layer"
   ]
  },
  {
   "cell_type": "code",
   "execution_count": null,
   "id": "961f5113-b0df-49b1-a820-1af8ff801734",
   "metadata": {
    "tags": []
   },
   "outputs": [],
   "source": [
    "# get the rasters\n",
    "nan_value=product_fh_l2a.floatNoDataValue\n",
    "\n",
    "with rasterio.open(l2a_fh) as fh_raster:\n",
    "    fh = fh_raster.read(1)\n",
    "    \n",
    "    # Get the coordinates for the plot\n",
    "    transform = fh_raster.transform\n",
    "    width = fh_raster.width\n",
    "    height = fh_raster.height\n",
    "    cols, rows = np.meshgrid(np.arange(width), np.arange(height))\n",
    "    xs, ys = rasterio.transform.xy(transform, rows, cols)\n",
    "    \n",
    "    # Convert to numpy arrays\n",
    "    lons = np.array(xs)\n",
    "    lats = np.array(ys)\n",
    "\n",
    "\n",
    "\n",
    "with rasterio.open(l2a_fh_quality) as fh_quality_raster:\n",
    "    fh_quality = fh_quality_raster.read(1)\n",
    "\n",
    "fh_avg = np.mean(np.ma.masked_equal(fh,nan_value))\n",
    "fh_std = np.std(np.ma.masked_equal(fh, nan_value))\n",
    "\n",
    "fh_quality_avg = np.mean(np.ma.masked_equal(fh_quality, nan_value))\n",
    "fh_quality_std = np.std(np.ma.masked_equal(fh_quality, nan_value))"
   ]
  },
  {
   "cell_type": "code",
   "execution_count": null,
   "id": "b9804fa7-e3ff-485e-81fe-5c5e576865ca",
   "metadata": {
    "tags": []
   },
   "outputs": [],
   "source": [
    "import os\n",
    "std_multiplier = 3\n",
    "aspect_ratio = 0.7\n",
    "colorbar_fraction = 0.05\n",
    "colorbar_pad = 0.04\n",
    "\n",
    "\n",
    "fig, axes = plt.subplots(1,2) \n",
    "ax1 = axes[0].imshow(\n",
    "    np.ma.masked_equal(fh,nan_value), \n",
    "    cmap='YlGn',\n",
    "    aspect=aspect_ratio, \n",
    "    extent=(lons.min(), lons.max(), lats.min(), lats.max()),\n",
    "    vmin =  fh_avg - std_multiplier * fh_std,\n",
    "    vmax =  fh_avg + std_multiplier * fh_std, \n",
    "    interpolation= \"nearest\"\n",
    ")\n",
    "axes[0].set_title('FH [m]')\n",
    "axes[0].set_xlabel(\"Lon (wgs84)\")\n",
    "axes[0].set_ylabel(\"Lat (wgs84)\")\n",
    "\n",
    "ax2 = axes[1].imshow(\n",
    "    np.ma.masked_equal(fh_quality, nan_value), \n",
    "    cmap='rainbow_r',\n",
    "    aspect=aspect_ratio,\n",
    "    extent=(lons.min(), lons.max(), lats.min(), lats.max()),\n",
    "    vmin = 0,\n",
    "    vmax = 100\n",
    ")\n",
    "axes[1].set_title('FH quality []')\n",
    "axes[1].yaxis.set_tick_params(labelleft=False)\n",
    "axes[1].set_xlabel(\"Lon (wgs84)\")\n",
    "\n",
    "fig.colorbar(ax1, ax=axes[0], orientation='vertical', fraction=colorbar_fraction, pad=colorbar_pad)\n",
    "fig.colorbar(ax2, ax=axes[1], orientation='vertical', fraction=colorbar_fraction, pad=colorbar_pad)\n",
    "fig.tight_layout()\n",
    "\n",
    "\n",
    "\n",
    "plt.show()\n",
    "plt.close"
   ]
  },
  {
   "cell_type": "code",
   "execution_count": null,
   "id": "2efbde62-1ed1-4a32-8c8a-e978eebc606e",
   "metadata": {},
   "outputs": [],
   "source": [
    "#create an histogram\n",
    "fig, axes = plt.subplots(1, 2, figsize=(12, 5))\n",
    "\n",
    "# Istogramma per il file principale\n",
    "axes[0].hist(np.ma.masked_equal(fh,nan_value).flatten(), bins=100, color='steelblue', alpha=0.8)\n",
    "axes[0].set_title(\"L2A Measurement Histogram\")\n",
    "axes[0].set_xlabel(\"Value\")\n",
    "axes[0].set_ylabel(\"Frequency\")\n",
    "axes[0].grid(True)\n",
    "\n",
    "# Istogramma per il file di qualità\n",
    "axes[1].hist(np.ma.masked_equal(fh_quality, nan_value).flatten(), bins=100, color='darkorange', alpha=0.8)\n",
    "axes[1].set_title(\"L2A Quality Histogram\")\n",
    "axes[1].set_xlabel(\"Value\")\n",
    "axes[1].set_ylabel(\"Frequency\")\n",
    "axes[1].grid(True)\n",
    "\n",
    "plt.tight_layout()\n",
    "plt.show()"
   ]
  },
  {
   "cell_type": "markdown",
   "id": "69071edd-8038-4357-85c5-69d9d98c17af",
   "metadata": {},
   "source": [
    "#### Section 1.2: L2A FH Lut"
   ]
  },
  {
   "cell_type": "code",
   "execution_count": null,
   "id": "6af30de9-53ab-4633-bc3b-070f432542eb",
   "metadata": {
    "tags": []
   },
   "outputs": [],
   "source": [
    "path_fh_lut =product_fh_l2a.annotation_lut_file"
   ]
  },
  {
   "cell_type": "code",
   "execution_count": null,
   "id": "b15681a9-3c5d-4de4-b4c8-ad48f4c0f33b",
   "metadata": {
    "tags": []
   },
   "outputs": [],
   "source": [
    "lats = product_fh_l2a.Latitude\n",
    "lons = product_fh_l2a.Longitude\n"
   ]
  },
  {
   "cell_type": "markdown",
   "id": "56b35135-afd3-4dda-82f7-64566590e462",
   "metadata": {},
   "source": [
    "#### Section 1.3: L2A FH Lut - FNF"
   ]
  },
  {
   "cell_type": "code",
   "execution_count": null,
   "id": "d4c4248c-b476-4ee8-baa8-ffe340ef1479",
   "metadata": {
    "tags": []
   },
   "outputs": [],
   "source": [
    "fnf_array =product_fh_l2a.FNF_FNF"
   ]
  },
  {
   "cell_type": "code",
   "execution_count": null,
   "id": "3d5dcaa6-52f0-4da2-bf02-1ed5d19080bf",
   "metadata": {
    "tags": []
   },
   "outputs": [],
   "source": [
    "import matplotlib.colors as mcolors\n",
    "import matplotlib.patches as mpatches\n",
    "nan_value = 255\n",
    "aspect_ratio =3\n",
    "\n",
    "\n",
    "binary_cmap = mcolors.ListedColormap(['brown', 'green'])\n",
    "white_patch = mpatches.Patch(color='brown', label='No Forest')\n",
    "black_patch = mpatches.Patch(color='green', label='Forest')\n",
    "\n",
    "fig, ax = plt.subplots(1, 1)\n",
    "ax1 = ax.imshow(\n",
    "    np.ma.masked_equal(fnf_array, nan_value), \n",
    "    cmap=binary_cmap,\n",
    "    aspect=aspect_ratio, \n",
    "    extent=(lons.min(), lons.max(), lats.min(), lats.max()),\n",
    "    vmin=0,\n",
    "    vmax=1\n",
    ")\n",
    "ax.set_title('FNF')\n",
    "ax.set_xlabel(\"Lon (wgs84)\")\n",
    "ax.set_ylabel(\"Lat (wgs84)\")\n",
    "\n",
    "fig.legend(handles=[white_patch, black_patch], loc='right', bbox_to_anchor=(1, 0.5))\n",
    "fig.tight_layout()\n",
    "plt.show()"
   ]
  },
  {
   "cell_type": "markdown",
   "id": "46c0b479-f83c-4349-a568-1142dcf809c4",
   "metadata": {
    "jp-MarkdownHeadingCollapsed": true,
    "tags": []
   },
   "source": [
    "## 🌳 Section 2: L2A FD"
   ]
  },
  {
   "cell_type": "markdown",
   "id": "4d7aa6a2-ad70-4836-bda1-d952f15b9b29",
   "metadata": {
    "tags": []
   },
   "source": [
    "#### Section 2.1: L2A FD COG "
   ]
  },
  {
   "cell_type": "code",
   "execution_count": null,
   "id": "f5f477c1-503e-4ff6-a4d9-a74cff89c03a",
   "metadata": {
    "tags": []
   },
   "outputs": [],
   "source": [
    "path_cfm =  product_fd_l2a.measurement_cfm_file  \n",
    "path_fd = product_fd_l2a.measurement_file   \n",
    "path_prob = product_fd_l2a.measurement_probability_file   "
   ]
  },
  {
   "cell_type": "markdown",
   "id": "6f9828e2-5568-4d77-98c7-aa92a5063c13",
   "metadata": {},
   "source": [
    "plots"
   ]
  },
  {
   "cell_type": "code",
   "execution_count": null,
   "id": "713def29-c5ea-4bc6-a118-1653aefa2267",
   "metadata": {
    "tags": []
   },
   "outputs": [],
   "source": [
    "# get the rasters\n",
    "\n",
    "nan_value=product_fd_l2a.floatNoDataValue\n",
    "#print(nan_value)\n",
    "nan_value_int = 255\n",
    "\n",
    "with rasterio.open(path_fd) as fd_raster:\n",
    "    fd = fd_raster.read(1)\n",
    "    \n",
    "    # Get the coordinates for the plot\n",
    "    transform = fd_raster.transform\n",
    "    width = fd_raster.width\n",
    "    height = fd_raster.height\n",
    "    cols, rows = np.meshgrid(np.arange(width), np.arange(height))\n",
    "    xs, ys = rasterio.transform.xy(transform, rows, cols)\n",
    "    \n",
    "    # Convert to numpy arrays\n",
    "    lons = np.array(xs)\n",
    "    lats = np.array(ys)\n",
    "\n",
    "\n",
    "\n",
    "with rasterio.open(path_cfm) as cfm_raster:\n",
    "    cfm = cfm_raster.read(1)\n",
    "\n",
    "with rasterio.open(path_prob) as prob_raster:\n",
    "    prob = prob_raster.read(1)\n",
    "\n"
   ]
  },
  {
   "cell_type": "code",
   "execution_count": null,
   "id": "1eb981ee-3ecf-484d-998d-8fd5a1a95ba4",
   "metadata": {
    "tags": []
   },
   "outputs": [],
   "source": [
    "import matplotlib.pyplot as plt\n",
    "import numpy as np\n",
    "import matplotlib.colors as mcolors\n",
    "import matplotlib.patches as mpatches\n",
    "\n",
    "binary_cmap_cfm = mcolors.ListedColormap(['brown', 'green'])\n",
    "binary_cmap_fd = mcolors.ListedColormap(['green', \"brown\"])\n",
    "\n",
    "nan_value_float=product_fd_l2a.floatNoDataValue\n",
    "#print(nan_value_float)\n",
    "nan_value_int = 255\n",
    "std_multiplier = 3\n",
    "aspect_ratio = 1\n",
    "colorbar_fraction = 0.05\n",
    "colorbar_pad = 0.04\n",
    "\n",
    "fig, axes = plt.subplots(1, 3, figsize=(10, 8))  # adjust plots scale and plot size if possible\n",
    "\n",
    "cax1 = axes[0].imshow(\n",
    "    np.ma.masked_equal(fd, nan_value_int),\n",
    "    cmap=binary_cmap_fd,\n",
    "    aspect=aspect_ratio,\n",
    "    extent=(lons.min(), lons.max(), lats.min(), lats.max()),\n",
    "    vmin=0,\n",
    "    vmax=1)\n",
    "\n",
    "axes[0].set_title('FD []')\n",
    "axes[0].set_xlabel(\"Lon (wgs84)\")\n",
    "axes[0].set_ylabel(\"Lat (wgs84)\")\n",
    "# Adjust the colorbar labels for cax1\n",
    "colorbar_cax1 = fig.colorbar(cax1, ax=axes[0], orientation='vertical', fraction=colorbar_fraction, pad=colorbar_pad)\n",
    "colorbar_cax1.set_ticks([0, 1])\n",
    "colorbar_cax1.set_ticklabels(['Not Disturbed', 'Disturbed'])\n",
    "\n",
    "cax2 = axes[1].imshow(\n",
    "    np.ma.masked_equal(cfm, nan_value_int),\n",
    "    cmap=binary_cmap_cfm,\n",
    "    aspect=aspect_ratio,\n",
    "    extent=(lons.min(), lons.max(), lats.min(), lats.max()),\n",
    "    vmin=0,\n",
    "    vmax=1)\n",
    "\n",
    "axes[1].yaxis.set_tick_params(labelleft=False)\n",
    "axes[1].set_title('CFM []')\n",
    "axes[1].set_xlabel(\"Lon (wgs84)\")\n",
    "# Adjust the colorbar labels for cax2\n",
    "colorbar_cax2 = fig.colorbar(cax2, ax=axes[1], orientation='vertical', fraction=colorbar_fraction, pad=colorbar_pad)\n",
    "colorbar_cax2.set_ticks([0, 1])\n",
    "colorbar_cax2.set_ticklabels(['No Forest', 'Forest'])\n",
    "\n",
    "masked_prob = np.ma.masked_equal(prob, nan_value_int)\n",
    "vmin = masked_prob.min()\n",
    "vmax = masked_prob.max()\n",
    "cax3 = axes[2].imshow(\n",
    "    masked_prob,\n",
    "    cmap='viridis',\n",
    "    aspect=aspect_ratio,\n",
    "    extent=(lons.min(), lons.max(), lats.min(), lats.max()),\n",
    "    vmin=vmin,\n",
    "    vmax=vmax)\n",
    "\n",
    "axes[2].yaxis.set_tick_params(labelleft=False)\n",
    "axes[2].set_title('Prob of Change []')\n",
    "axes[2].set_xlabel(\"Lon (wgs84)\")\n",
    "\n",
    "\n",
    "fig.colorbar(cax3, ax=axes[2], orientation='vertical', fraction=colorbar_fraction, pad=colorbar_pad)\n",
    "\n",
    "\n",
    "\n",
    "fig.tight_layout()\n",
    "plt.show()"
   ]
  },
  {
   "cell_type": "markdown",
   "id": "782dc80b-6293-4527-b6ea-b568efc27b03",
   "metadata": {},
   "source": [
    "#### Section 2.2:L2A FD Lut"
   ]
  },
  {
   "cell_type": "code",
   "execution_count": null,
   "id": "4daf5748-ad29-47dd-8a2e-c18338fb47a5",
   "metadata": {
    "tags": []
   },
   "outputs": [],
   "source": [
    "path_fd_lut =  product_fd_l2a.annotation_lut_file  "
   ]
  },
  {
   "cell_type": "code",
   "execution_count": null,
   "id": "1518cb21-ad03-41bd-9464-a24f3281a24a",
   "metadata": {
    "tags": []
   },
   "outputs": [],
   "source": [
    "lats = product_fd_l2a.Latitude\n",
    "lons = product_fd_l2a.Longitude\n"
   ]
  },
  {
   "cell_type": "markdown",
   "id": "5d7dfeaf-64db-4dd6-a77e-44d5eb7b672d",
   "metadata": {},
   "source": [
    "#### Section 2.3: L2A FD LUT -  FNF"
   ]
  },
  {
   "cell_type": "code",
   "execution_count": null,
   "id": "07387d71-cc6a-43af-8441-5333a3b45486",
   "metadata": {
    "tags": []
   },
   "outputs": [],
   "source": [
    "fnf_array =product_fd_l2a.FNF_FNF"
   ]
  },
  {
   "cell_type": "code",
   "execution_count": null,
   "id": "b0536334-d2d7-42a6-81f1-27f7081c9e0b",
   "metadata": {
    "tags": []
   },
   "outputs": [],
   "source": [
    "import matplotlib.colors as mcolors\n",
    "import matplotlib.patches as mpatches\n",
    "nan_value = 255\n",
    "aspect_ratio =3\n",
    "\n",
    "\n",
    "binary_cmap = mcolors.ListedColormap(['brown', 'green'])\n",
    "white_patch = mpatches.Patch(color='brown', label='No Forest')\n",
    "black_patch = mpatches.Patch(color='green', label='Forest')\n",
    "\n",
    "fig, ax = plt.subplots(1, 1)\n",
    "ax1 = ax.imshow(\n",
    "    np.ma.masked_equal(fnf_array, nan_value), \n",
    "    cmap=binary_cmap,\n",
    "    aspect=aspect_ratio, \n",
    "    extent=(lons.min(), lons.max(), lats.min(), lats.max()),\n",
    "    vmin=0,\n",
    "    vmax=1\n",
    ")\n",
    "ax.set_title('FNF')\n",
    "ax.set_xlabel(\"Lon (wgs84)\")\n",
    "ax.set_ylabel(\"Lat (wgs84)\")\n",
    "\n",
    "fig.legend(handles=[white_patch, black_patch], loc='right', bbox_to_anchor=(1, 0.5))\n",
    "fig.tight_layout()\n",
    "plt.show()"
   ]
  },
  {
   "cell_type": "markdown",
   "id": "3f0a9e5c-dd60-44e0-af96-b3ae2268dbfa",
   "metadata": {},
   "source": [
    "#### Section 2.4: L2A FD  LUT -  ACM"
   ]
  },
  {
   "cell_type": "code",
   "execution_count": null,
   "id": "af11ad3e-ed26-491d-9907-6d59e8430462",
   "metadata": {
    "tags": []
   },
   "outputs": [],
   "source": [
    "\n",
    "layer1 =product_fd_l2a.ACM_layer1\n",
    "layer2 =product_fd_l2a.ACM_layer2\n",
    "layer3 =product_fd_l2a.ACM_layer3\n",
    "layer4 =product_fd_l2a.ACM_layer4\n",
    "layer5 =product_fd_l2a.ACM_layer5\n",
    "layer6 =product_fd_l2a.ACM_layer6\n",
    "layer7 =product_fd_l2a.ACM_layer7\n",
    "layer8 =product_fd_l2a.ACM_layer8\n",
    "layer9 =product_fd_l2a.ACM_layer9"
   ]
  },
  {
   "cell_type": "code",
   "execution_count": null,
   "id": "4783419c",
   "metadata": {},
   "outputs": [],
   "source": [
    "nan_value_float = -9999\n",
    "nan_value_int = 255\n",
    "std_multiplier = 3\n",
    "aspect_ratio = 3\n",
    "colorbar_fraction = 0.05\n",
    "colorbar_pad = 0.04\n",
    "\n",
    "# abs\n",
    "entry11 = layer1\n",
    "entry12 = layer2\n",
    "entry13 = layer4\n",
    "\n",
    "entry21 = layer2\n",
    "entry22 = layer6\n",
    "entry23 = layer7\n",
    "\n",
    "entry31 = layer4\n",
    "entry32 = layer7\n",
    "entry33 = layer9\n",
    "\n",
    "def mean_std_masked(array, nodata_value):\n",
    "    masked = np.ma.masked_equal(array, nodata_value)\n",
    "    return masked.mean(), masked.std()\n",
    "\n",
    "entry11_avg, entry11_std = mean_std_masked((entry11), nan_value_float)\n",
    "entry12_avg, entry12_std = mean_std_masked((entry12), nan_value_float)\n",
    "entry13_avg, entry13_std = mean_std_masked((entry13), nan_value_float)\n",
    "entry21_avg, entry21_std = mean_std_masked((entry21), nan_value_float)\n",
    "entry22_avg, entry22_std = mean_std_masked((entry22), nan_value_float)\n",
    "entry23_avg, entry23_std = mean_std_masked((entry23), nan_value_float)\n",
    "entry31_avg, entry31_std = mean_std_masked((entry31), nan_value_float)\n",
    "entry32_avg, entry32_std = mean_std_masked((entry32), nan_value_float)\n",
    "entry33_avg, entry33_std = mean_std_masked((entry33), nan_value_float)\n",
    "\n",
    "\n",
    "fig, axes = plt.subplots(3,3, figsize=(12,12)) \n",
    "\n",
    "ax1 = axes[0,0].imshow( \n",
    "    entry11, \n",
    "    cmap='rainbow',\n",
    "    aspect=aspect_ratio,\n",
    "    extent=(lons.min(), lons.max(), lats.min(), lats.max()),\n",
    "    vmin =  entry11_avg - std_multiplier * entry11_std,\n",
    "    vmax =  entry11_avg + std_multiplier * entry11_std\n",
    ")\n",
    "axes[0,0].set_title('Amp [HH-HH]')\n",
    "axes[0,0].xaxis.set_tick_params(labelleft=False)\n",
    "axes[0,0].xaxis.set_tick_params(labelleft=False)\n",
    "axes[0,0].set_ylabel(\"Lat (wgs84)\")\n",
    "\n",
    "\n",
    "ax2 = axes[0,1].imshow( \n",
    "    entry12, \n",
    "    cmap='rainbow',\n",
    "    aspect=aspect_ratio,\n",
    "    extent=(lons.min(), lons.max(), lats.min(), lats.max()),\n",
    "    vmin =  entry12_avg - std_multiplier * entry12_std,\n",
    "    vmax =  entry12_avg + std_multiplier * entry12_std\n",
    ")\n",
    "axes[0,1].set_title('Amp [HH-XP]')\n",
    "axes[0,1].yaxis.set_tick_params(labelleft=False)\n",
    "axes[0,1].xaxis.set_tick_params(labelleft=False)\n",
    "axes[0,1].set_ylabel(\"Lat (wgs84)\")\n",
    "\n",
    "ax3 = axes[0,2].imshow( \n",
    "    entry13, \n",
    "    cmap='rainbow',\n",
    "    aspect=aspect_ratio,\n",
    "    extent=(lons.min(), lons.max(), lats.min(), lats.max()),\n",
    "    vmin =  entry13_avg - std_multiplier * entry13_std,\n",
    "    vmax =  entry13_avg + std_multiplier * entry13_std\n",
    ")\n",
    "axes[0,2].set_title('Amp [HH-VV]')\n",
    "axes[0,2].xaxis.set_tick_params(labelleft=False)\n",
    "axes[0,2].xaxis.set_tick_params(labelleft=False)\n",
    "axes[0,2].set_ylabel(\"Lat (wgs84)\")\n",
    "\n",
    "ax4 = axes[1,0].imshow( \n",
    "    entry21, \n",
    "    cmap='rainbow',\n",
    "    aspect=aspect_ratio,\n",
    "    extent=(lons.min(), lons.max(), lats.min(), lats.max()),\n",
    "    vmin =  entry21_avg - std_multiplier * entry21_std,\n",
    "    vmax =  entry21_avg + std_multiplier * entry21_std\n",
    ")\n",
    "axes[1,0].set_title('Amp [HH-XP]')\n",
    "axes[1,0].yaxis.set_tick_params(labelleft=False)\n",
    "axes[1,0].xaxis.set_tick_params(labelleft=False)\n",
    "axes[1,0].set_ylabel(\"Lat (wgs84)\")\n",
    "\n",
    "ax5 = axes[1,1].imshow( \n",
    "    entry22, \n",
    "    cmap='rainbow',\n",
    "    aspect=aspect_ratio,\n",
    "    extent=(lons.min(), lons.max(), lats.min(), lats.max()),\n",
    "    vmin =  entry22_avg - std_multiplier * entry22_std,\n",
    "    vmax =  entry22_avg + std_multiplier * entry22_std\n",
    ")\n",
    "axes[1,1].set_title('Amp [XP-XP]')\n",
    "axes[1,1].yaxis.set_tick_params(labelleft=False)\n",
    "axes[1,1].xaxis.set_tick_params(labelleft=False)\n",
    "axes[1,1].set_ylabel(\"Lat (wgs84)\")\n",
    "\n",
    "ax6 = axes[1,2].imshow( \n",
    "    entry23, \n",
    "    cmap='rainbow',\n",
    "    aspect=aspect_ratio,\n",
    "    extent=(lons.min(), lons.max(), lats.min(), lats.max()),\n",
    "    vmin =  entry23_avg - std_multiplier * entry23_std,\n",
    "    vmax =  entry23_avg + std_multiplier * entry23_std\n",
    ")\n",
    "axes[1,2].set_title('Amp [XP-VV]')\n",
    "axes[1,2].yaxis.set_tick_params(labelleft=False)\n",
    "axes[1,2].xaxis.set_tick_params(labelleft=False)\n",
    "axes[1,2].set_xlabel(\"Lon (wgs84)\")\n",
    "\n",
    "ax7 = axes[2,0].imshow( \n",
    "    entry31, \n",
    "    cmap='rainbow',\n",
    "    aspect=aspect_ratio,\n",
    "    extent=(lons.min(), lons.max(), lats.min(), lats.max()),\n",
    "    vmin =  entry31_avg - std_multiplier * entry31_std,\n",
    "    vmax =  entry31_avg + std_multiplier * entry31_std\n",
    ")\n",
    "axes[2,0].set_title('Amp [HH-VV]')\n",
    "axes[2,0].yaxis.set_tick_params(labelleft=False)\n",
    "axes[2,0].xaxis.set_tick_params(labelleft=False)\n",
    "axes[2,0].set_xlabel(\"Lon (wgs84)\")\n",
    "\n",
    "ax8 = axes[2,1].imshow( \n",
    "    entry32, \n",
    "    cmap='rainbow',\n",
    "    aspect=aspect_ratio,\n",
    "    extent=(lons.min(), lons.max(), lats.min(), lats.max()),\n",
    "    vmin =  entry32_avg - std_multiplier * entry32_std,\n",
    "    vmax =  entry32_avg + std_multiplier * entry32_std\n",
    ")\n",
    "axes[2,1].set_title('Amp [XP-VV]')\n",
    "axes[2,1].yaxis.set_tick_params(labelleft=False)\n",
    "axes[2,1].xaxis.set_tick_params(labelleft=False)\n",
    "axes[2,1].set_xlabel(\"Lon (wgs84)\")\n",
    "\n",
    "\n",
    "ax9 = axes[2,2].imshow( \n",
    "    entry33, \n",
    "    cmap='rainbow',\n",
    "    aspect=aspect_ratio,\n",
    "    extent=(lons.min(), lons.max(), lats.min(), lats.max()),\n",
    "    vmin =  entry33_avg - std_multiplier * entry33_std,\n",
    "    vmax =  entry33_avg + std_multiplier * entry33_std\n",
    ")\n",
    "axes[2,2].set_title('Amp [VV-VV]')\n",
    "axes[2,2].yaxis.set_tick_params(labelleft=False)\n",
    "axes[2,2].xaxis.set_tick_params(labelleft=False)\n",
    "axes[2,2].set_xlabel(\"Lon (wgs84)\")\n",
    "\n",
    "fig.colorbar(ax1, ax=axes[0,0], orientation='vertical', fraction=colorbar_fraction, pad=colorbar_pad)\n",
    "fig.colorbar(ax2, ax=axes[0,1], orientation='vertical', fraction=colorbar_fraction, pad=colorbar_pad)\n",
    "fig.colorbar(ax3, ax=axes[0,2], orientation='vertical', fraction=colorbar_fraction, pad=colorbar_pad)\n",
    "fig.colorbar(ax4, ax=axes[1,0], orientation='vertical', fraction=colorbar_fraction, pad=colorbar_pad)\n",
    "fig.colorbar(ax5, ax=axes[1,1], orientation='vertical', fraction=colorbar_fraction, pad=colorbar_pad)\n",
    "fig.colorbar(ax6, ax=axes[1,2], orientation='vertical', fraction=colorbar_fraction, pad=colorbar_pad)\n",
    "fig.colorbar(ax7, ax=axes[2,0], orientation='vertical', fraction=colorbar_fraction, pad=colorbar_pad)\n",
    "fig.colorbar(ax8, ax=axes[2,1], orientation='vertical', fraction=colorbar_fraction, pad=colorbar_pad)\n",
    "fig.colorbar(ax9, ax=axes[2,2], orientation='vertical', fraction=colorbar_fraction, pad=colorbar_pad)\n",
    "\n",
    "fig.tight_layout()"
   ]
  },
  {
   "cell_type": "code",
   "execution_count": null,
   "id": "69506405-6575-4e07-b5c0-0612c21b8597",
   "metadata": {
    "tags": []
   },
   "outputs": [],
   "source": [
    "nan_value_float=product_fd_l2a.floatNoDataValue\n",
    "#print(nan_value_float)\n",
    "\n",
    "nan_value_int = 255\n",
    "std_multiplier = 3\n",
    "aspect_ratio = 3\n",
    "colorbar_fraction = 0.05\n",
    "colorbar_pad = 0.04\n",
    "\n",
    "def mean_std_masked(array, nodata_value):\n",
    "    masked = np.ma.masked_equal(array, nodata_value)\n",
    "    return masked.mean(), masked.std()\n",
    "\n",
    "layer1_avg, layer1_std = mean_std_masked(layer1, nan_value_float)\n",
    "layer2_avg, layer2_std = mean_std_masked(layer2, nan_value_float)\n",
    "layer3_avg, layer3_std = mean_std_masked(layer3, nan_value_float)\n",
    "layer4_avg, layer4_std = mean_std_masked(layer4, nan_value_float)\n",
    "layer5_avg, layer5_std = mean_std_masked(layer5, nan_value_float)\n",
    "layer6_avg, layer6_std = mean_std_masked(layer6, nan_value_float)\n",
    "layer7_avg, layer7_std = mean_std_masked(layer7, nan_value_float)\n",
    "layer8_avg, layer8_std = mean_std_masked(layer8, nan_value_float)\n",
    "layer9_avg, layer9_std = mean_std_masked(layer9, nan_value_float)\n",
    "\n",
    "\n",
    "fig, axes = plt.subplots(3,3, figsize=(12,12)) \n",
    "\n",
    "ax1 = axes[0,0].imshow( \n",
    "    layer1, \n",
    "    cmap='rainbow',\n",
    "    aspect=aspect_ratio,\n",
    "    extent=(lons.min(), lons.max(), lats.min(), lats.max()),\n",
    "    vmin =  layer1_avg - std_multiplier * layer1_std,\n",
    "    vmax =  layer1_avg + std_multiplier * layer1_std\n",
    ")\n",
    "axes[0,0].set_title('layer1 [TBD]')\n",
    "axes[0,0].xaxis.set_tick_params(labelleft=False)\n",
    "axes[0,0].set_ylabel(\"Lat (wgs84)\")\n",
    "\n",
    "\n",
    "ax2 = axes[0,1].imshow( \n",
    "    layer2, \n",
    "    cmap='rainbow',\n",
    "    aspect=aspect_ratio,\n",
    "    extent=(lons.min(), lons.max(), lats.min(), lats.max()),\n",
    "    vmin =  layer2_avg - std_multiplier * layer2_std,\n",
    "    vmax =  layer2_avg + std_multiplier * layer2_std\n",
    ")\n",
    "axes[0,1].set_title('layer2 [TBD]')\n",
    "axes[0,1].yaxis.set_tick_params(labelleft=False)\n",
    "axes[0,1].xaxis.set_tick_params(labelleft=False)\n",
    "\n",
    "\n",
    "ax3 = axes[0,2].imshow( \n",
    "    layer3, \n",
    "    cmap='rainbow',\n",
    "    aspect=aspect_ratio,\n",
    "    extent=(lons.min(), lons.max(), lats.min(), lats.max()),\n",
    "    vmin =  layer3_avg - std_multiplier * layer3_std,\n",
    "    vmax =  layer3_avg + std_multiplier * layer3_std\n",
    ")\n",
    "axes[0,2].set_title('layer3 [TBD]')\n",
    "axes[0,2].yaxis.set_tick_params(labelleft=False)\n",
    "axes[0,2].xaxis.set_tick_params(labelleft=False)\n",
    "\n",
    "\n",
    "ax4 = axes[1,0].imshow( \n",
    "    layer4, \n",
    "    cmap='rainbow',\n",
    "    aspect=aspect_ratio,\n",
    "    extent=(lons.min(), lons.max(), lats.min(), lats.max()),\n",
    "    vmin =  layer4_avg - std_multiplier * layer4_std,\n",
    "    vmax =  layer4_avg + std_multiplier * layer4_std\n",
    ")\n",
    "axes[1,0].set_title('layer4 [TBD]')\n",
    "axes[1,0].xaxis.set_tick_params(labelleft=False)\n",
    "axes[1,0].set_ylabel(\"Lat (wgs84)\")\n",
    "\n",
    "\n",
    "ax5 = axes[1,1].imshow( \n",
    "    layer5, \n",
    "    cmap='rainbow',\n",
    "    aspect=aspect_ratio,\n",
    "    extent=(lons.min(), lons.max(), lats.min(), lats.max()),\n",
    "    vmin =  layer5_avg - std_multiplier * layer5_std,\n",
    "    vmax =  layer5_avg + std_multiplier * layer5_std\n",
    ")\n",
    "axes[1,1].set_title('layer5 [TBD]')\n",
    "axes[1,1].yaxis.set_tick_params(labelleft=False)\n",
    "axes[1,1].xaxis.set_tick_params(labelleft=False)\n",
    "\n",
    "\n",
    "ax6 = axes[1,2].imshow( \n",
    "    layer6, \n",
    "    cmap='rainbow',\n",
    "    aspect=aspect_ratio,\n",
    "    extent=(lons.min(), lons.max(), lats.min(), lats.max()),\n",
    "    vmin =  layer6_avg - std_multiplier * layer6_std,\n",
    "    vmax =  layer6_avg + std_multiplier * layer6_std\n",
    ")\n",
    "axes[1,2].set_title('layer6 [TND]')\n",
    "axes[1,2].yaxis.set_tick_params(labelleft=False)\n",
    "axes[1,2].xaxis.set_tick_params(labelleft=False)\n",
    "\n",
    "\n",
    "ax7 = axes[2,0].imshow( \n",
    "    layer7, \n",
    "    cmap='rainbow',\n",
    "    aspect=aspect_ratio,\n",
    "    extent=(lons.min(), lons.max(), lats.min(), lats.max()),\n",
    "    vmin =  layer7_avg - std_multiplier * layer7_std,\n",
    "    vmax =  layer7_avg + std_multiplier * layer7_std\n",
    ")\n",
    "axes[2,0].set_title('layer7 [TBD]')\n",
    "axes[2,0].set_xlabel(\"Lon (wgs84)\")\n",
    "axes[2,0].set_ylabel(\"Lat (wgs84)\")\n",
    "\n",
    "\n",
    "ax8 = axes[2,1].imshow( \n",
    "    layer8, \n",
    "    cmap='rainbow',\n",
    "    aspect=aspect_ratio,\n",
    "    extent=(lons.min(), lons.max(), lats.min(), lats.max()),\n",
    "    vmin =  layer8_avg - std_multiplier * layer8_std,\n",
    "    vmax =  layer8_avg + std_multiplier * layer8_std\n",
    ")\n",
    "axes[2,1].set_title('layer8 [TBD]')\n",
    "axes[2,1].yaxis.set_tick_params(labelleft=False)\n",
    "axes[2,1].set_xlabel(\"Lon (wgs84)\")\n",
    "\n",
    "\n",
    "ax9 = axes[2,2].imshow( \n",
    "    layer9, \n",
    "    cmap='rainbow',\n",
    "    aspect=aspect_ratio,\n",
    "    extent=(lons.min(), lons.max(), lats.min(), lats.max()),\n",
    "    vmin =  layer9_avg - std_multiplier * layer9_std,\n",
    "    vmax =  layer9_avg + std_multiplier * layer9_std\n",
    ")\n",
    "axes[2,2].set_title('layer9 [TBD]')\n",
    "axes[2,2].yaxis.set_tick_params(labelleft=False)\n",
    "axes[2,2].set_xlabel(\"Lon (wgs84)\")\n",
    "\n",
    "fig.colorbar(ax1, ax=axes[0,0], orientation='vertical', fraction=colorbar_fraction, pad=colorbar_pad)\n",
    "fig.colorbar(ax2, ax=axes[0,1], orientation='vertical', fraction=colorbar_fraction, pad=colorbar_pad)\n",
    "fig.colorbar(ax3, ax=axes[0,2], orientation='vertical', fraction=colorbar_fraction, pad=colorbar_pad)\n",
    "fig.colorbar(ax4, ax=axes[1,0], orientation='vertical', fraction=colorbar_fraction, pad=colorbar_pad)\n",
    "fig.colorbar(ax5, ax=axes[1,1], orientation='vertical', fraction=colorbar_fraction, pad=colorbar_pad)\n",
    "fig.colorbar(ax6, ax=axes[1,2], orientation='vertical', fraction=colorbar_fraction, pad=colorbar_pad)\n",
    "fig.colorbar(ax7, ax=axes[2,0], orientation='vertical', fraction=colorbar_fraction, pad=colorbar_pad)\n",
    "fig.colorbar(ax8, ax=axes[2,1], orientation='vertical', fraction=colorbar_fraction, pad=colorbar_pad)\n",
    "fig.colorbar(ax9, ax=axes[2,2], orientation='vertical', fraction=colorbar_fraction, pad=colorbar_pad)\n",
    "\n",
    "fig.tight_layout()\n",
    "plt.show()"
   ]
  },
  {
   "cell_type": "markdown",
   "id": "a1bdfd7f-0819-494a-b51c-d42a420a0417",
   "metadata": {},
   "source": [
    "#### Section 2.5: L2A FD LUT -  numberOfAverages"
   ]
  },
  {
   "cell_type": "code",
   "execution_count": null,
   "id": "65b06476-6a4f-4951-a498-2b96811620d0",
   "metadata": {
    "tags": []
   },
   "outputs": [],
   "source": [
    "numberOfAverages_array = product_fd_l2a.numberOfAverages_numberOfAverages"
   ]
  },
  {
   "cell_type": "code",
   "execution_count": null,
   "id": "4f5de342-1cfd-41df-9e6f-80b1b737e39c",
   "metadata": {
    "tags": []
   },
   "outputs": [],
   "source": [
    "numberOfAverages_array"
   ]
  },
  {
   "cell_type": "code",
   "execution_count": null,
   "id": "0b6f3c39-eb8d-4b75-8aec-2e712ccb0fff",
   "metadata": {
    "tags": []
   },
   "outputs": [],
   "source": [
    "nan_value = 255\n",
    "std_multiplier = 3\n",
    "aspect_ratio =3\n",
    "colorbar_fraction = 0.05\n",
    "colorbar_pad = 0.04\n",
    "\n",
    "fig, ax = plt.subplots(1, 1)\n",
    "\n",
    "masked = np.ma.masked_equal(numberOfAverages_array, nan_value)\n",
    "\n",
    "# Calcola vmin e vmax escludendo gli outlier\n",
    "vmin = np.percentile(masked.compressed(), 2)\n",
    "vmax = np.percentile(masked.compressed(), 98)\n",
    "\n",
    "ax1 = ax.imshow(\n",
    "    masked, \n",
    "    cmap=\"rainbow\",\n",
    "    aspect=aspect_ratio, \n",
    "    extent=(lons.min(), lons.max(), lats.min(), lats.max()),\n",
    "    vmin=vmin,\n",
    "    vmax=vmax\n",
    ")\n",
    "ax.set_title('numberOfAverages')\n",
    "ax.set_xlabel(\"Lon (wgs84)\")\n",
    "ax.set_ylabel(\"Lat (wgs84)\")\n",
    "\n",
    "fig.colorbar(ax1, ax=ax, orientation='vertical', fraction=colorbar_fraction, pad=colorbar_pad)\n",
    "fig.tight_layout()\n",
    "plt.show()"
   ]
  },
  {
   "cell_type": "markdown",
   "id": "1839f4b0-396f-4927-9605-150cb38d5ca0",
   "metadata": {
    "jp-MarkdownHeadingCollapsed": true,
    "tags": []
   },
   "source": [
    "## 🍃 Section 3: L2A GN"
   ]
  },
  {
   "cell_type": "markdown",
   "id": "a091d4b0-93f7-4b88-951f-8fd4f59a0d41",
   "metadata": {},
   "source": [
    "#### Section 3.1: L2A GN COG "
   ]
  },
  {
   "cell_type": "code",
   "execution_count": null,
   "id": "45fbabec-33e4-448f-b73c-3e0bc3d20e7b",
   "metadata": {
    "tags": []
   },
   "outputs": [],
   "source": [
    "path_gn = product_gn_l2a.measurement_file "
   ]
  },
  {
   "cell_type": "code",
   "execution_count": null,
   "id": "d34be1e9-9e9f-491b-adaf-6f4977725318",
   "metadata": {
    "tags": []
   },
   "outputs": [],
   "source": [
    "nan_value_float=product_gn_l2a.floatNoDataValue\n",
    "\n",
    "nan_value_int = 255\n",
    "\n",
    "with rasterio.open(path_gn) as gn_raster:\n",
    "    sigma_hh = gn_raster.read(1) #nupy.ndarray object\n",
    "    sigma_hh = np.ma.masked_equal(sigma_hh, nan_value)\n",
    "        \n",
    "    sigma_xx = gn_raster.read(2) #nupy.ndarray object\n",
    "    sigma_xx = np.ma.masked_equal(sigma_xx, nan_value)\n",
    "\n",
    "    \n",
    "    sigma_vv = gn_raster.read(3) #nupy.ndarray object\n",
    "    sigma_vv = np.ma.masked_equal(sigma_vv, nan_value)\n",
    "\n",
    "   \n",
    "    # Get the coordinates for the plot\n",
    "    transform = gn_raster.transform\n",
    "    width = gn_raster.width\n",
    "    height = gn_raster.height\n",
    "    cols, rows = np.meshgrid(np.arange(width), np.arange(height))\n",
    "    xs, ys = rasterio.transform.xy(transform, rows, cols)\n",
    "    \n",
    "    # Convert to numpy arrays\n",
    "    lons = np.array(xs)\n",
    "    lats = np.array(ys)"
   ]
  },
  {
   "cell_type": "code",
   "execution_count": null,
   "id": "08946151-150d-42c0-b887-9624e3e64de0",
   "metadata": {
    "tags": []
   },
   "outputs": [],
   "source": [
    "\n",
    "sigma_hh_safe = np.where(sigma_hh > 0, sigma_hh, np.nan)\n",
    "sigma_hh_db = 20*np.log10(sigma_hh_safe)\n",
    "sigma_hh_db_avg = np.nanmean(sigma_hh_db)\n",
    "sigma_hh_db_std = np.nanstd(sigma_hh_db)\n",
    "\n",
    "sigma_xx_safe=np.where(sigma_xx > 0, sigma_xx, np.nan)\n",
    "sigma_xx_db = 20*np.log10(sigma_xx_safe)\n",
    "sigma_xx_db_avg = np.nanmean(sigma_xx_db)\n",
    "sigma_xx_db_std = np.nanstd(sigma_xx_db)\n",
    "\n",
    "sigma_vv_safe=np.where(sigma_vv > 0, sigma_vv, np.nan)\n",
    "sigma_vv_db = 20*np.log10(sigma_vv_safe)\n",
    "sigma_vv_db_avg = np.nanmean(sigma_vv_db)\n",
    "sigma_vv_db_std = np.nanstd(sigma_vv_db)\n",
    "\n"
   ]
  },
  {
   "cell_type": "code",
   "execution_count": null,
   "id": "c80fb22c-35b7-43b7-8d25-9bc0df1d6d2e",
   "metadata": {
    "tags": []
   },
   "outputs": [],
   "source": [
    "## plot \n",
    "\n",
    "std_multiplier = 1\n",
    "aspect_ratio = 1\n",
    "colorbar_fraction = 0.05\n",
    "colorbar_pad = 0.04\n",
    "\n",
    "fig, axes = plt.subplots(1,3, figsize=(8, 5)) # adjust plots scale and plot size if possibile\n",
    "\n",
    "cax1 = axes[0].imshow( \n",
    "    sigma_hh_db, \n",
    "    cmap='rainbow',\n",
    "    aspect= aspect_ratio , \n",
    "    extent=(lons.min(), lons.max(), lats.min(), lats.max()),\n",
    "    vmin = sigma_hh_db_avg - std_multiplier * sigma_hh_db_std, \n",
    "    vmax = sigma_hh_db_avg + std_multiplier * sigma_hh_db_std ) \n",
    "\n",
    "axes[0].set_title('db sigma HH')\n",
    "axes[0].set_xlabel(\"Lon (wgs84)\")\n",
    "axes[0].set_ylabel(\"Lat (wgs84)\")\n",
    "\n",
    "cax2 = axes[1].imshow( \n",
    "    sigma_xx_db, \n",
    "    cmap='rainbow',\n",
    "    aspect= aspect_ratio , \n",
    "    extent=(lons.min(), lons.max(), lats.min(), lats.max()),\n",
    "    vmin = sigma_xx_db_avg - std_multiplier * sigma_xx_db_std, \n",
    "    vmax = sigma_xx_db_avg + std_multiplier * sigma_xx_db_std )\n",
    "axes[1].set_title('db sigma XX')\n",
    "axes[1].yaxis.set_tick_params(labelleft=False)\n",
    "axes[1].set_xlabel(\"Lon (wgs84)\")\n",
    "\n",
    "cax3 = axes[2].imshow( \n",
    "    sigma_vv_db, \n",
    "    cmap='rainbow',\n",
    "    aspect= aspect_ratio , \n",
    "    extent=(lons.min(), lons.max(), lats.min(), lats.max()),\n",
    "    vmin = sigma_vv_db_avg - std_multiplier * sigma_vv_db_std, \n",
    "    vmax = sigma_vv_db_avg + std_multiplier * sigma_vv_db_std )\n",
    "axes[2].set_title('db sigma VV')\n",
    "axes[2].yaxis.set_tick_params(labelleft=False)\n",
    "axes[2].set_xlabel(\"Lon (wgs84)\")\n",
    "\n",
    "fig.colorbar(cax1, ax=axes[0], orientation='vertical', fraction=colorbar_fraction, pad=colorbar_pad) \n",
    "fig.colorbar(cax2, ax=axes[1], orientation='vertical', fraction=colorbar_fraction, pad=colorbar_pad)\n",
    "fig.colorbar(cax3, ax=axes[2], orientation='vertical', fraction=colorbar_fraction, pad=colorbar_pad)\n",
    "fig.tight_layout()\n",
    "plt.show()"
   ]
  },
  {
   "cell_type": "markdown",
   "id": "d3c615b6-0852-40f6-a91e-c0925a1fd1ea",
   "metadata": {},
   "source": [
    "#### Section 3.2: L2A GN LUT"
   ]
  },
  {
   "cell_type": "code",
   "execution_count": null,
   "id": "15373814-a5ce-4e6f-81af-2de6b6a1a617",
   "metadata": {
    "tags": []
   },
   "outputs": [],
   "source": [
    "path_gn_lut = product_gn_l2a.annotation_lut_file "
   ]
  },
  {
   "cell_type": "code",
   "execution_count": null,
   "id": "139f567b-8f00-4e6f-a39c-97fa6588f9c4",
   "metadata": {
    "tags": []
   },
   "outputs": [],
   "source": [
    "lats = product_gn_l2a.Latitude\n",
    "lons = product_gn_l2a.Longitude\n"
   ]
  },
  {
   "cell_type": "markdown",
   "id": "935c1ad6-812c-4af9-86a2-809cc40a5fb2",
   "metadata": {},
   "source": [
    "#### Section 3.3: L2A GN LUT -  FNF"
   ]
  },
  {
   "cell_type": "code",
   "execution_count": null,
   "id": "8e16f9c7-1413-442f-a5c7-9f52e3cfa347",
   "metadata": {
    "tags": []
   },
   "outputs": [],
   "source": [
    "#fnf = lut_gn.groups[\"FNF\"]"
   ]
  },
  {
   "cell_type": "code",
   "execution_count": null,
   "id": "a945796c-18f1-4f22-936a-36eacf3fd1dd",
   "metadata": {
    "tags": []
   },
   "outputs": [],
   "source": [
    "fnf_array = product_gn_l2a.FNF_FNF"
   ]
  },
  {
   "cell_type": "code",
   "execution_count": null,
   "id": "0fab8eeb-b181-4b7a-8f96-2f6724cf5123",
   "metadata": {
    "tags": []
   },
   "outputs": [],
   "source": [
    "import matplotlib.colors as mcolors\n",
    "import matplotlib.patches as mpatches\n",
    "nan_value = 255\n",
    "\n",
    "aspect_ratio =3\n",
    "\n",
    "\n",
    "binary_cmap = mcolors.ListedColormap(['brown', 'green'])\n",
    "white_patch = mpatches.Patch(color='brown', label='No Forest')\n",
    "black_patch = mpatches.Patch(color='green', label='Forest')\n",
    "\n",
    "fig, ax = plt.subplots(1, 1)\n",
    "ax1 = ax.imshow(\n",
    "    np.ma.masked_equal(fnf_array, nan_value), \n",
    "    cmap=binary_cmap,\n",
    "    aspect=aspect_ratio, \n",
    "    extent=(lons.min(), lons.max(), lats.min(), lats.max()),\n",
    "    vmin=0,\n",
    "    vmax=1\n",
    ")\n",
    "ax.set_title('FNF')\n",
    "ax.set_xlabel(\"Lon (wgs84)\")\n",
    "ax.set_ylabel(\"Lat (wgs84)\")\n",
    "\n",
    "fig.legend(handles=[white_patch, black_patch], loc='right', bbox_to_anchor=(1, 0.5))\n",
    "fig.tight_layout()\n",
    "plt.show()"
   ]
  },
  {
   "cell_type": "markdown",
   "id": "45ef8145-4042-4d1f-8f4c-2f347baedcba",
   "metadata": {},
   "source": [
    "#### Section 3.4: L2A GN LUT -  localIncidenceAngle"
   ]
  },
  {
   "cell_type": "code",
   "execution_count": null,
   "id": "afe85cd8-391d-48a4-bef5-635bc15707f2",
   "metadata": {
    "tags": []
   },
   "outputs": [],
   "source": [
    "#localIncidenceAngle = lut_gn.groups[\"localIncidenceAngle\"]\n",
    "#localIncidenceAngle\n",
    "localIncidenceAngle_array = product_gn_l2a.localIncidenceAngle_localIncidenceAngle"
   ]
  },
  {
   "cell_type": "code",
   "execution_count": null,
   "id": "50ac3723-1fd2-495d-9338-9cd204eb4d57",
   "metadata": {
    "tags": []
   },
   "outputs": [],
   "source": [
    "\n",
    "nan_value=product_gn_l2a.floatNoDataValue\n",
    "\n",
    "\n",
    "localIncidenceAngle_array_avg = np.mean(np.ma.masked_equal(localIncidenceAngle_array, nan_value))\n",
    "localIncidenceAngle_array_std = np.std(np.ma.masked_equal(localIncidenceAngle_array, nan_value))\n",
    "localIncidenceAngle_array_max = np.max(np.ma.masked_equal(localIncidenceAngle_array, nan_value))\n",
    "localIncidenceAngle_array_min = np.min(np.ma.masked_equal(localIncidenceAngle_array, nan_value))\n",
    "\n",
    "std_multiplier = 3\n",
    "aspect_ratio =3\n",
    "colorbar_fraction = 0.05\n",
    "colorbar_pad = 0.04\n",
    "\n",
    "fig, (ax, ax2) = plt.subplots(1, 2, figsize=(10, 5), gridspec_kw={\"width_ratios\": [1, 0.3]})\n",
    "\n",
    "ax1 = ax.imshow(\n",
    "    np.ma.masked_equal(localIncidenceAngle_array, nan_value), \n",
    "    cmap=\"rainbow\",\n",
    "    aspect=aspect_ratio, \n",
    "    extent=(lons.min(), lons.max(), lats.min(), lats.max()),\n",
    "    vmin =  localIncidenceAngle_array_avg - std_multiplier * localIncidenceAngle_array_std,\n",
    "    vmax =  localIncidenceAngle_array_avg + std_multiplier * localIncidenceAngle_array_std\n",
    ")\n",
    "ax.set_title('localIncidenceAngle_array [deg]')\n",
    "ax.set_xlabel(\"Lon (wgs84)\")\n",
    "ax.set_ylabel(\"Lat (wgs84)\")\n",
    "ax2.axis(\"off\")\n",
    "stats_text = (\n",
    "    f\"Mean:\\n{localIncidenceAngle_array_avg:.2f}°\\n\\n\"\n",
    "    f\"Std Dev:\\n{localIncidenceAngle_array_std:.2f}°\\n\\n\"\n",
    "    f\"Min:\\n{localIncidenceAngle_array_min:.2f}°\\n\\n\"\n",
    "    f\"Max:\\n{localIncidenceAngle_array_max:.2f}°\"\n",
    ")\n",
    "ax2.text(0, 1, stats_text, fontsize=11, va='top')\n",
    "fig.colorbar(ax1, ax=ax, orientation='vertical', fraction=colorbar_fraction, pad=colorbar_pad)\n",
    "fig.tight_layout()\n",
    "plt.show()"
   ]
  },
  {
   "cell_type": "markdown",
   "id": "d258a8cd-d640-445f-9791-7b820b2f0acb",
   "metadata": {
    "jp-MarkdownHeadingCollapsed": true,
    "tags": []
   },
   "source": [
    "## 🌲 Section 4: L2B FH"
   ]
  },
  {
   "cell_type": "markdown",
   "id": "48fb25a7-95d3-443d-9dde-fff8476e907f",
   "metadata": {},
   "source": [
    "#### Section 4.1: L2B FH  COG "
   ]
  },
  {
   "cell_type": "code",
   "execution_count": null,
   "id": "e652b3df-c497-4f60-9664-d2ac150f1d4a",
   "metadata": {},
   "outputs": [],
   "source": [
    "import rasterio\n",
    "import netCDF4\n",
    "import numpy as np\n",
    "import matplotlib.pyplot as plt\n",
    "import warnings\n",
    "import BiomassProduct \n",
    "from pathlib import Path\n",
    "warnings.filterwarnings('ignore', category=DeprecationWarning)\n",
    "\n",
    "folder_TDS = Path(\"..\") / \"Muriel_test/L2B\"\n",
    "paths = BiomassProduct.L2BProductPaths(folder_TDS)     \n",
    "    \n",
    "product_fh_l2b = BiomassProduct.l2b_fh(paths.fh)\n",
    "product_fd_l2b = BiomassProduct.l2b_fd(paths.fd)\n",
    "product_agb_l2b = BiomassProduct.l2b_agb(paths.agb)"
   ]
  },
  {
   "cell_type": "code",
   "execution_count": null,
   "id": "d48defc3-6d09-4629-bf90-74c70e32b00e",
   "metadata": {
    "tags": []
   },
   "outputs": [],
   "source": [
    "path_fh = product_fh_l2b.measurement_file   \n",
    "path_fh_quality = product_fh_l2b.measurement_fhquality_file \n",
    "\n",
    "print(path_fh)\n",
    "print (path_fh_quality)"
   ]
  },
  {
   "cell_type": "code",
   "execution_count": null,
   "id": "c281d462-36b8-4cbd-9233-c7f5fa79524a",
   "metadata": {
    "tags": []
   },
   "outputs": [],
   "source": [
    "nan_value=product_fd_l2b.floatNoDataValue\n",
    "\n",
    "with rasterio.open(path_fh) as fh_raster:\n",
    "    fh = fh_raster.read(1)\n",
    "    \n",
    "    # Get the coordinates for the plot\n",
    "    transform = fh_raster.transform\n",
    "    width = fh_raster.width\n",
    "    height = fh_raster.height\n",
    "    cols, rows = np.meshgrid(np.arange(width), np.arange(height))\n",
    "    xs, ys = rasterio.transform.xy(transform, rows, cols)\n",
    "    \n",
    "    # Convert to numpy arrays\n",
    "    lons = np.array(xs)\n",
    "    lats = np.array(ys)\n",
    "\n",
    "\n",
    "\n",
    "with rasterio.open(path_fh_quality) as fh_quality_raster:\n",
    "    fh_quality = fh_quality_raster.read(1)\n",
    "\n",
    "fh_avg = np.mean(np.ma.masked_equal(fh,nan_value))\n",
    "fh_std = np.std(np.ma.masked_equal(fh, nan_value))\n",
    "\n",
    "fh_quality_avg = np.mean(np.ma.masked_equal(fh_quality, nan_value))\n",
    "fh_quality_std = np.std(np.ma.masked_equal(fh_quality, nan_value))"
   ]
  },
  {
   "cell_type": "code",
   "execution_count": null,
   "id": "4a246aed-0bbe-454b-a45b-cc00845c4733",
   "metadata": {
    "tags": []
   },
   "outputs": [],
   "source": [
    "std_multiplier = 3\n",
    "aspect_ratio = 1\n",
    "colorbar_fraction = 0.05\n",
    "colorbar_pad = 0.04\n",
    "nan_value=product_fh_l2b.floatNoDataValue\n",
    "\n",
    "fig, axes = plt.subplots(1,2, figsize=(8,8)) \n",
    "ax1 = axes[0].imshow(\n",
    "    np.ma.masked_equal(fh,nan_value), \n",
    "    cmap='YlGn',\n",
    "    aspect=aspect_ratio, \n",
    "    extent=(lons.min(), lons.max(), lats.min(), lats.max()),\n",
    "    vmin =  fh_avg - std_multiplier * fh_std,\n",
    "    vmax =  fh_avg + std_multiplier * fh_std\n",
    ")\n",
    "axes[0].set_title('FH [m]')\n",
    "axes[0].set_xlabel(\"Lon (wgs84)\")\n",
    "axes[0].set_ylabel(\"Lat (wgs84)\")\n",
    "\n",
    "ax2 = axes[1].imshow(\n",
    "    np.ma.masked_equal(fh_quality, nan_value), \n",
    "    cmap='rainbow_r',\n",
    "    aspect=aspect_ratio,\n",
    "    extent=(lons.min(), lons.max(), lats.min(), lats.max()),\n",
    "    vmin = 0,\n",
    "    vmax = 100\n",
    ")\n",
    "axes[1].set_title('FH quality []')\n",
    "axes[1].yaxis.set_tick_params(labelleft=False)\n",
    "axes[1].set_xlabel(\"Lon (wgs84)\")\n",
    "\n",
    "fig.colorbar(ax1, ax=axes[0], orientation='vertical', fraction=colorbar_fraction, pad=colorbar_pad)\n",
    "fig.colorbar(ax2, ax=axes[1], orientation='vertical', fraction=colorbar_fraction, pad=colorbar_pad)\n",
    "fig.tight_layout()\n",
    "plt.show()"
   ]
  },
  {
   "cell_type": "markdown",
   "id": "6c977812-ca5e-42c0-8e15-738ce827ac9f",
   "metadata": {},
   "source": [
    "#### Section 4.2: L2B FH  Annotation folder"
   ]
  },
  {
   "cell_type": "code",
   "execution_count": null,
   "id": "d0c9b1f9-c5db-47ef-bc71-d48d5177910e",
   "metadata": {
    "tags": []
   },
   "outputs": [],
   "source": [
    "acquisition_id_image_path = product_fh_l2b.annotation_acquisition_file \n",
    "fnf_path = product_fh_l2b.annotation_bps_fnf_file  \n",
    "heatmap_path = product_fh_l2b.annotation_heatmap_file "
   ]
  },
  {
   "cell_type": "markdown",
   "id": "d18c2f1d-c03a-42e6-af02-5bbb2c0cc4b7",
   "metadata": {},
   "source": [
    "#### Section 4.3: L2B FH  Annotation folder - FNF"
   ]
  },
  {
   "cell_type": "code",
   "execution_count": null,
   "id": "45b9148e-bcae-4a0e-8a88-7fab91795e41",
   "metadata": {
    "tags": []
   },
   "outputs": [],
   "source": [
    "with rasterio.open(fnf_path) as fnf_raster:\n",
    "    fnf_array = fnf_raster.read(1)\n",
    "    \n",
    "    # Get the coordinates for the plot\n",
    "    transform = fnf_raster.transform\n",
    "    width = fnf_raster.width\n",
    "    height = fnf_raster.height\n",
    "    cols, rows = np.meshgrid(np.arange(width), np.arange(height))\n",
    "    xs, ys = rasterio.transform.xy(transform, rows, cols)\n",
    "    \n",
    "    # Convert to numpy arrays\n",
    "    lons = np.array(xs)\n",
    "    lats = np.array(ys)"
   ]
  },
  {
   "cell_type": "code",
   "execution_count": null,
   "id": "899d1e39-ea82-4b34-bb01-9a18e5b44d44",
   "metadata": {
    "tags": []
   },
   "outputs": [],
   "source": [
    "import matplotlib.colors as mcolors\n",
    "import matplotlib.patches as mpatches\n",
    "nan_value = 255\n",
    "aspect_ratio =1\n",
    "\n",
    "\n",
    "binary_cmap = mcolors.ListedColormap(['brown', 'green'])\n",
    "white_patch = mpatches.Patch(color='brown', label='No Forest')\n",
    "black_patch = mpatches.Patch(color='green', label='Forest')\n",
    "\n",
    "fig, ax = plt.subplots(1, 1)\n",
    "ax1 = ax.imshow(\n",
    "    np.ma.masked_equal(fnf_array, nan_value), \n",
    "    cmap=binary_cmap,\n",
    "    aspect=aspect_ratio, \n",
    "    extent=(lons.min(), lons.max(), lats.min(), lats.max()),\n",
    "    vmin=0,\n",
    "    vmax=1\n",
    ")\n",
    "ax.set_title('FNF')\n",
    "ax.set_xlabel(\"Lon (wgs84)\")\n",
    "ax.set_ylabel(\"Lat (wgs84)\")\n",
    "\n",
    "fig.legend(handles=[white_patch, black_patch], loc='right', bbox_to_anchor=(1, 0.5))\n",
    "fig.tight_layout()\n",
    "plt.show()"
   ]
  },
  {
   "cell_type": "markdown",
   "id": "76ef66f5-336d-4296-b068-4b5a022a8437",
   "metadata": {},
   "source": [
    "#### Section 4.4: L2B FH  Annotation folder - HeatMap"
   ]
  },
  {
   "cell_type": "code",
   "execution_count": null,
   "id": "574385bc-b9e1-4a31-946e-f87e6fa799d9",
   "metadata": {
    "tags": []
   },
   "outputs": [],
   "source": [
    "with rasterio.open(heatmap_path) as heatmap_raster:\n",
    "    weight_sum_array = heatmap_raster.read(1)\n",
    "    \n",
    "    \n",
    "    # Get the coordinates for the plot\n",
    "    transform = heatmap_raster.transform\n",
    "    width = heatmap_raster.width\n",
    "    height = heatmap_raster.height\n",
    "    cols, rows = np.meshgrid(np.arange(width), np.arange(height))\n",
    "    xs, ys = rasterio.transform.xy(transform, rows, cols)\n",
    "    \n",
    "    # Convert to numpy arrays\n",
    "    lons = np.array(xs)\n",
    "    lats = np.array(ys)"
   ]
  },
  {
   "cell_type": "code",
   "execution_count": null,
   "id": "975272b2-c2ed-4deb-8e7d-5f4da8224a21",
   "metadata": {
    "tags": []
   },
   "outputs": [],
   "source": [
    "nan_value=product_fh_l2b.floatNoDataValue\n",
    "std_multiplier = 3\n",
    "aspect_ratio =1\n",
    "colorbar_fraction = 0.05\n",
    "colorbar_pad = 0.04\n",
    "\n",
    "\n",
    "weight_sum_array_avg = np.mean(np.ma.masked_equal(weight_sum_array,nan_value))\n",
    "weight_sum_array_std = np.std(np.ma.masked_equal(weight_sum_array, nan_value))\n",
    "\n",
    "\n",
    "\n",
    "fig, ax = plt.subplots(1, 1)\n",
    "ax1 = ax.imshow(\n",
    "    np.ma.masked_equal(weight_sum_array, nan_value), \n",
    "    cmap=\"rainbow\",\n",
    "    aspect=aspect_ratio, \n",
    "    extent=(lons.min(), lons.max(), lats.min(), lats.max()),\n",
    "    vmin=0,\n",
    "    vmax=weight_sum_array_avg  + std_multiplier*weight_sum_array_std\n",
    ")\n",
    "ax.set_title('Heatmap \\n weight sum')\n",
    "ax.set_xlabel(\"Lon (wgs84)\")\n",
    "ax.set_ylabel(\"Lat (wgs84)\")\n",
    "\n",
    "fig.colorbar(ax1, ax=ax, orientation='vertical', fraction=colorbar_fraction, pad=colorbar_pad)\n",
    "fig.tight_layout()\n",
    "plt.show()"
   ]
  },
  {
   "cell_type": "code",
   "execution_count": null,
   "id": "82d70be0-b2f1-4d31-9dac-608347ca7883",
   "metadata": {
    "tags": []
   },
   "outputs": [],
   "source": [
    "nan_value = 0  \n",
    "std_multiplier = 3\n",
    "aspect_ratio =1\n",
    "colorbar_fraction = 0.05\n",
    "colorbar_pad = 0.04\n",
    "\n",
    "\n",
    "weight_sum_array_avg = np.mean(np.ma.masked_equal(weight_sum_array,nan_value))\n",
    "weight_sum_array_std = np.std(np.ma.masked_equal(weight_sum_array, nan_value))\n",
    "\n",
    "\n",
    "\n",
    "fig, ax = plt.subplots(1, 1)\n",
    "ax1 = ax.imshow(\n",
    "    np.ma.masked_equal(weight_sum_array, nan_value), \n",
    "    cmap=\"rainbow\",\n",
    "    aspect=aspect_ratio, \n",
    "    extent=(lons.min(), lons.max(), lats.min(), lats.max()),\n",
    "    vmin=0,\n",
    "    vmax=weight_sum_array_avg  + std_multiplier*weight_sum_array_std\n",
    ")\n",
    "ax.set_title('Heatmap \\n weight sum')\n",
    "ax.set_xlabel(\"Lon (wgs84)\")\n",
    "ax.set_ylabel(\"Lat (wgs84)\")\n",
    "\n",
    "fig.colorbar(ax1, ax=ax, orientation='vertical', fraction=colorbar_fraction, pad=colorbar_pad)\n",
    "fig.tight_layout()\n",
    "plt.show()"
   ]
  },
  {
   "cell_type": "code",
   "execution_count": null,
   "id": "3fb8665f-f07d-4313-abcd-583058297d32",
   "metadata": {
    "tags": []
   },
   "outputs": [],
   "source": [
    "\"\"\"\n",
    "no data are mixed with zero....\n",
    "\"\"\"\n",
    "\n",
    "nan_value_list = [nan_value, 0]\n",
    "std_multiplier = 3\n",
    "aspect_ratio =1\n",
    "colorbar_fraction = 0.05\n",
    "colorbar_pad = 0.04\n",
    "\n",
    "weight_sum_array = np.where(\n",
    "    (weight_sum_array == nan_value_list[0]) | (weight_sum_array == nan_value_list[1]),\n",
    "    np.nan,\n",
    "    weight_sum_array)\n",
    "\n",
    "\n",
    "weight_sum_array_avg = np.nanmean(weight_sum_array)\n",
    "weight_sum_array_std = np.nanstd(weight_sum_array)\n",
    "\n",
    "\n",
    "\n",
    "fig, ax = plt.subplots(1, 1)\n",
    "ax1 = ax.imshow(\n",
    "    weight_sum_array, \n",
    "    cmap=\"rainbow\",\n",
    "    aspect=aspect_ratio, \n",
    "    extent=(lons.min(), lons.max(), lats.min(), lats.max()),\n",
    "    vmin=0,\n",
    "    vmax=weight_sum_array_avg  + std_multiplier*weight_sum_array_std\n",
    ")\n",
    "ax.set_title('Heatmap \\n weight sum')\n",
    "ax.set_xlabel(\"Lon (wgs84)\")\n",
    "ax.set_ylabel(\"Lat (wgs84)\")\n",
    "\n",
    "fig.colorbar(ax1, ax=ax, orientation='vertical', fraction=colorbar_fraction, pad=colorbar_pad)\n",
    "fig.tight_layout()\n",
    "plt.show()"
   ]
  },
  {
   "cell_type": "markdown",
   "id": "02da374e-4b99-479f-a0de-4e3263309492",
   "metadata": {},
   "source": [
    "#### Section 4.5: L2B FH  Annotation folder - Acquisition ID Image"
   ]
  },
  {
   "cell_type": "code",
   "execution_count": null,
   "id": "c559cab4-9cec-4098-9637-cb82717e7db0",
   "metadata": {
    "tags": []
   },
   "outputs": [],
   "source": [
    "acquisition_id_image_layers = {}\n",
    "\n",
    "with rasterio.open(acquisition_id_image_path) as acquisition_id_image:\n",
    "    num_channels = acquisition_id_image.count\n",
    "\n",
    "    for i in range(0, num_channels):\n",
    "        acquisition_id_image_layers[str(i + 1)] = acquisition_id_image.read(i+1)    \n",
    "    \n",
    "    \n",
    "    # Get the coordinates for the plot\n",
    "    transform = acquisition_id_image.transform\n",
    "    width = acquisition_id_image.width\n",
    "    height = acquisition_id_image.height\n",
    "    cols, rows = np.meshgrid(np.arange(width), np.arange(height))\n",
    "    xs, ys = rasterio.transform.xy(transform, rows, cols)\n",
    "    \n",
    "    # Convert to numpy arrays\n",
    "    lons = np.array(xs)\n",
    "    lats = np.array(ys)"
   ]
  },
  {
   "cell_type": "code",
   "execution_count": null,
   "id": "6ac09979-2687-47f7-8f92-c3661ff16840",
   "metadata": {
    "tags": []
   },
   "outputs": [],
   "source": [
    "\"\"\"\n",
    "problem with nan value\n",
    "\"\"\"\n",
    "\n",
    "nan_value = 0\n",
    "aspect_ratio =1\n",
    "colorbar_fraction = 0.05\n",
    "colorbar_pad = 0.04\n",
    "\n",
    "fig, axes = plt.subplots(num_channels, 1, figsize=(10, 5 * num_channels))\n",
    "\n",
    "for i in range(1, num_channels + 1):\n",
    "    data = acquisition_id_image_layers[str(i)]\n",
    "    \n",
    "    # Calculate the aspect ratio\n",
    "    aspect_ratio = (lons.max() - lons.min()) / (lats.max() - lats.min())\n",
    "    \n",
    "    # Plot the data\n",
    "    ax = axes[i - 1] if num_channels > 1 else axes\n",
    "    ax1 = ax.imshow(\n",
    "        np.ma.masked_equal(data, nan_value), \n",
    "        cmap=\"rainbow\",\n",
    "        aspect=aspect_ratio, \n",
    "        extent=(lons.min(), lons.max(), lats.min(), lats.max()),\n",
    "        vmin=0,\n",
    "        vmax=np.ma.masked_equal(data, nan_value).max()  # Example of using mean and std for vmin and vmax\n",
    "    )\n",
    "    ax.set_title(f'Acquisition ID {i}')\n",
    "    ax.set_xlabel(\"Lon (wgs84)\")\n",
    "    ax.set_ylabel(\"Lat (wgs84)\")\n",
    "    \n",
    "    # Add colorbar\n",
    "    fig.colorbar(ax1, ax=ax, orientation='vertical', fraction=colorbar_fraction, pad=colorbar_pad)\n",
    "\n",
    "fig.tight_layout()\n",
    "plt.show()"
   ]
  },
  {
   "cell_type": "markdown",
   "id": "d6ce27ff-b5f0-4f2d-8d6f-486545c74d3e",
   "metadata": {
    "jp-MarkdownHeadingCollapsed": true,
    "tags": []
   },
   "source": [
    "## 🌴 Section 5: L2B FD"
   ]
  },
  {
   "cell_type": "markdown",
   "id": "45c1915d-faae-4b6f-b2a9-ca30b1f6085c",
   "metadata": {},
   "source": [
    "#### Section 5.1: L2B FD  COG "
   ]
  },
  {
   "cell_type": "code",
   "execution_count": null,
   "id": "7e77aa34-ddcc-49a1-8e8b-b70a0fa2f5cb",
   "metadata": {
    "tags": []
   },
   "outputs": [],
   "source": [
    "path_cfm =  product_fd_l2b.measurement_cfm_file  \n",
    "path_fd =   product_fd_l2b.measurement_file  \n",
    "path_prob = product_fd_l2b.measurement_probability_file\n",
    "\n",
    "print(path_cfm)\n",
    "print(path_fd)\n",
    "print(path_prob)"
   ]
  },
  {
   "cell_type": "code",
   "execution_count": null,
   "id": "5d964141-42d8-4dc3-a310-da972389b09d",
   "metadata": {
    "tags": []
   },
   "outputs": [],
   "source": [
    "# get the rasters\n",
    "nan_value_float=product_fd_l2b.floatNoDataValue\n",
    "nan_value_int = 255\n",
    "\n",
    "with rasterio.open(path_fd) as fd_raster:\n",
    "    fd = fd_raster.read(1)\n",
    "    \n",
    "    # Get the coordinates for the plot\n",
    "    transform = fd_raster.transform\n",
    "    width = fd_raster.width\n",
    "    height = fd_raster.height\n",
    "    cols, rows = np.meshgrid(np.arange(width), np.arange(height))\n",
    "    xs, ys = rasterio.transform.xy(transform, rows, cols)\n",
    "    \n",
    "    # Convert to numpy arrays\n",
    "    lons = np.array(xs)\n",
    "    lats = np.array(ys)\n",
    "\n",
    "\n",
    "\n",
    "with rasterio.open(path_cfm) as cfm_raster:\n",
    "    cfm = cfm_raster.read(1)\n",
    "\n",
    "with rasterio.open(path_prob) as prob_raster:\n",
    "    prob = prob_raster.read(1)\n"
   ]
  },
  {
   "cell_type": "code",
   "execution_count": null,
   "id": "0df2cb28-4e84-4963-8703-dab45156eb1e",
   "metadata": {
    "tags": []
   },
   "outputs": [],
   "source": [
    "import matplotlib.pyplot as plt\n",
    "import numpy as np\n",
    "import matplotlib.colors as mcolors\n",
    "import matplotlib.patches as mpatches\n",
    "\n",
    "binary_cmap_cfm = mcolors.ListedColormap(['brown', 'green'])\n",
    "\n",
    "\n",
    "binary_cmap_fd = mcolors.ListedColormap(['green', \"brown\"])\n",
    "\n",
    "nan_value_float=product_fd_l2b.floatNoDataValue\n",
    "\n",
    "nan_value_int = 255\n",
    "std_multiplier = 3\n",
    "aspect_ratio = 1\n",
    "colorbar_fraction = 0.05\n",
    "colorbar_pad = 0.04\n",
    "\n",
    "fig, axes = plt.subplots(3,1, figsize=(7, 15))  # adjust plots scale and plot size if possible\n",
    "\n",
    "cax1 = axes[0].imshow(\n",
    "    np.ma.masked_equal(fd, nan_value_int),\n",
    "    cmap=binary_cmap_fd,\n",
    "    aspect=aspect_ratio,\n",
    "    extent=(lons.min(), lons.max(), lats.min(), lats.max()),\n",
    "    vmin=0,\n",
    "    vmax=1)\n",
    "\n",
    "axes[0].set_title('FD []')\n",
    "axes[0].set_ylabel(\"Lat (wgs84)\")\n",
    "axes[0].set_xlabel(\"Lon (wgs84)\")\n",
    "\n",
    "# Adjust the colorbar labels for cax1\n",
    "colorbar_cax1 = fig.colorbar(cax1, ax=axes[0], orientation='vertical', fraction=colorbar_fraction, pad=colorbar_pad)\n",
    "colorbar_cax1.set_ticks([0, 1])\n",
    "colorbar_cax1.set_ticklabels(['Not Disturbed', 'Disturbed'])\n",
    "\n",
    "cax2 = axes[1].imshow(\n",
    "    np.ma.masked_equal(cfm, nan_value_int),\n",
    "    cmap=binary_cmap_cfm,\n",
    "    aspect=aspect_ratio,\n",
    "    extent=(lons.min(), lons.max(), lats.min(), lats.max()),\n",
    "    vmin=0,\n",
    "    vmax=1)\n",
    "\n",
    "\n",
    "axes[1].set_title('CFM []')\n",
    "axes[1].set_xlabel(\"Lon (wgs84)\")\n",
    "axes[1].set_xlabel(\"Lon (wgs84)\")\n",
    "\n",
    "# Adjust the colorbar labels for cax2\n",
    "colorbar_cax2 = fig.colorbar(cax2, ax=axes[1], orientation='vertical', fraction=colorbar_fraction, pad=colorbar_pad)\n",
    "colorbar_cax2.set_ticks([0, 1])\n",
    "colorbar_cax2.set_ticklabels(['No Forest', 'Forest'])\n",
    "\n",
    "cax3 = axes[2].imshow(\n",
    "    np.ma.masked_equal(prob, nan_value_float),\n",
    "    cmap='rainbow',\n",
    "    aspect=aspect_ratio,\n",
    "    extent=(lons.min(), lons.max(), lats.min(), lats.max()),\n",
    "    vmin=0,\n",
    "    vmax=1)\n",
    "\n",
    "\n",
    "axes[2].set_title('Prob of Change []')\n",
    "axes[2].set_xlabel(\"Lon (wgs84)\")\n",
    "axes[2].set_ylabel(\"Lat (wgs84)\")\n",
    "\n",
    "\n",
    "fig.colorbar(cax3, ax=axes[2], orientation='vertical', fraction=colorbar_fraction, pad=colorbar_pad)\n",
    "\n",
    "\n",
    "\n",
    "fig.tight_layout()\n",
    "plt.show()"
   ]
  },
  {
   "cell_type": "markdown",
   "id": "697b1d65-b375-4bd9-8290-150ed65f73d7",
   "metadata": {},
   "source": [
    "#### Section 5.2: L2B FD  Annotation folder"
   ]
  },
  {
   "cell_type": "code",
   "execution_count": null,
   "id": "898e60c7-e3ea-4fd5-ae4e-2f61621c571a",
   "metadata": {
    "tags": []
   },
   "outputs": [],
   "source": [
    "acquisition_id_image_path = product_fd_l2b.annotation_acquisition_file   \n",
    "heatmap_path = product_fd_l2b.annotation_heatmap_file    "
   ]
  },
  {
   "cell_type": "markdown",
   "id": "8c630b47-4ec8-41e5-a90b-ea4beaf36961",
   "metadata": {},
   "source": [
    "#### Section 5.3: L2B FD  Annotation folder - Acquisition ID Image"
   ]
  },
  {
   "cell_type": "code",
   "execution_count": null,
   "id": "26a55360-5fbd-475d-91ba-04ca87630af7",
   "metadata": {
    "tags": []
   },
   "outputs": [],
   "source": [
    "acquisition_id_image_layers = {}\n",
    "\n",
    "with rasterio.open(acquisition_id_image_path) as acquisition_id_image:\n",
    "    num_channels = acquisition_id_image.count\n",
    "\n",
    "    for i in range(0, num_channels):\n",
    "        acquisition_id_image_layers[str(i + 1)] = acquisition_id_image.read(i+1)    \n",
    "    \n",
    "    \n",
    "    # Get the coordinates for the plot\n",
    "    transform = acquisition_id_image.transform\n",
    "    width = acquisition_id_image.width\n",
    "    height = acquisition_id_image.height\n",
    "    cols, rows = np.meshgrid(np.arange(width), np.arange(height))\n",
    "    xs, ys = rasterio.transform.xy(transform, rows, cols)\n",
    "    \n",
    "    # Convert to numpy arrays\n",
    "    lons = np.array(xs)\n",
    "    lats = np.array(ys)"
   ]
  },
  {
   "cell_type": "code",
   "execution_count": null,
   "id": "25246c56-2ee5-49cb-95b4-ab7447ec72ca",
   "metadata": {
    "tags": []
   },
   "outputs": [],
   "source": [
    "\"\"\"\n",
    "problem with nan value\n",
    "\"\"\"\n",
    "\n",
    "nan_value = 0\n",
    "aspect_ratio =1\n",
    "colorbar_fraction = 0.05\n",
    "colorbar_pad = 0.04\n",
    "\n",
    "\n",
    "\n",
    "fig, axes = plt.subplots(num_channels, 1, figsize=(10, 5 * num_channels))\n",
    "\n",
    "for i in range(1, num_channels + 1):\n",
    "    data = acquisition_id_image_layers[str(i)]\n",
    "    \n",
    "    # Calculate the aspect ratio\n",
    "    aspect_ratio = (lons.max() - lons.min()) / (lats.max() - lats.min())\n",
    "    \n",
    "    # Plot the data\n",
    "    ax = axes[i - 1] if num_channels > 1 else axes\n",
    "    ax1 = ax.imshow(\n",
    "        np.ma.masked_equal(data, nan_value), \n",
    "        cmap=\"rainbow\",\n",
    "        aspect=aspect_ratio, \n",
    "        extent=(lons.min(), lons.max(), lats.min(), lats.max()),\n",
    "        vmin=0,\n",
    "        vmax=np.ma.masked_equal(data, nan_value).max()  # Example of using mean and std for vmin and vmax\n",
    "    )\n",
    "    ax.set_title(f'Acquisition ID  {i}')\n",
    "    ax.set_xlabel(\"Lon (wgs84)\")\n",
    "    ax.set_ylabel(\"Lat (wgs84)\")\n",
    "    \n",
    "    # Add colorbar\n",
    "    fig.colorbar(ax1, ax=ax, orientation='vertical', fraction=colorbar_fraction, pad=colorbar_pad)\n",
    "\n",
    "fig.tight_layout()\n",
    "plt.show()\n"
   ]
  },
  {
   "cell_type": "markdown",
   "id": "cbc65012-a730-496a-90d2-ab6f267a9f06",
   "metadata": {},
   "source": [
    "#### Section 5.4: L2B FD  Annotation folder - HeatMap"
   ]
  },
  {
   "cell_type": "code",
   "execution_count": null,
   "id": "370db729-9341-4576-87f3-d20f73abc121",
   "metadata": {
    "tags": []
   },
   "outputs": [],
   "source": [
    "with rasterio.open(heatmap_path) as heatmap_raster:\n",
    "    n_of_L1c_images_contributing = heatmap_raster.read(1)\n",
    "    n_of_L1c_images_contributing_to_the_final_decision = heatmap_raster.read(2)\n",
    "    \n",
    "    \n",
    "    # Get the coordinates for the plot\n",
    "    transform = heatmap_raster.transform\n",
    "    width = heatmap_raster.width\n",
    "    height = heatmap_raster.height\n",
    "    cols, rows = np.meshgrid(np.arange(width), np.arange(height))\n",
    "    xs, ys = rasterio.transform.xy(transform, rows, cols)\n",
    "    \n",
    "    # Convert to numpy arrays\n",
    "    lons = np.array(xs)\n",
    "    lats = np.array(ys)"
   ]
  },
  {
   "cell_type": "code",
   "execution_count": null,
   "id": "d542c0e1-79b5-497b-aa13-d1797c3e63b6",
   "metadata": {
    "tags": []
   },
   "outputs": [],
   "source": [
    "std_multiplier = 3\n",
    "aspect_ratio = 1\n",
    "colorbar_fraction = 0.05\n",
    "colorbar_pad = 0.04\n",
    "nan_value = 0\n",
    "\n",
    "fig, axes = plt.subplots(1,2, figsize=(8,8)) \n",
    "ax1 = axes[0].imshow(\n",
    "    np.ma.masked_equal(n_of_L1c_images_contributing,nan_value), \n",
    "    cmap='rainbow',\n",
    "    aspect=aspect_ratio, \n",
    "    extent=(lons.min(), lons.max(), lats.min(), lats.max()),\n",
    "    vmin =  np.ma.masked_equal(n_of_L1c_images_contributing,nan_value).min(),\n",
    "    vmax =  np.ma.masked_equal(n_of_L1c_images_contributing,nan_value).max()\n",
    ")\n",
    "axes[0].set_title('n_of_L1c_images_contributing')\n",
    "axes[0].set_xlabel(\"Lon (wgs84)\")\n",
    "axes[0].set_ylabel(\"Lat (wgs84)\")\n",
    "\n",
    "ax2 = axes[1].imshow(\n",
    "    np.ma.masked_equal(n_of_L1c_images_contributing_to_the_final_decision, nan_value), \n",
    "    cmap='rainbow',\n",
    "    aspect=aspect_ratio,\n",
    "    extent=(lons.min(), lons.max(), lats.min(), lats.max()),\n",
    "    vmin = np.ma.masked_equal(n_of_L1c_images_contributing_to_the_final_decision, nan_value).min(),\n",
    "    vmax = np.ma.masked_equal(n_of_L1c_images_contributing_to_the_final_decision, nan_value).max()\n",
    ")\n",
    "axes[1].set_title('n_of_L1c_images_contributing \\n to_the_final decision')\n",
    "axes[1].yaxis.set_tick_params(labelleft=False)\n",
    "axes[1].set_xlabel(\"Lon (wgs84)\")\n",
    "\n",
    "fig.colorbar(ax1, ax=axes[0], orientation='vertical', fraction=colorbar_fraction, pad=colorbar_pad)\n",
    "fig.colorbar(ax2, ax=axes[1], orientation='vertical', fraction=colorbar_fraction, pad=colorbar_pad)\n",
    "fig.tight_layout()\n",
    "plt.show()"
   ]
  },
  {
   "cell_type": "markdown",
   "id": "17b412b8-e1c3-4134-8512-a0580e412d4c",
   "metadata": {
    "jp-MarkdownHeadingCollapsed": true,
    "tags": []
   },
   "source": [
    "## 🎋 Section 6: L2B AGB"
   ]
  },
  {
   "cell_type": "markdown",
   "id": "3795b091-c70b-4ef7-a611-0a42a222f673",
   "metadata": {},
   "source": [
    "#### Section 6.1: L2B FD  COG "
   ]
  },
  {
   "cell_type": "code",
   "execution_count": null,
   "id": "ae74b403-e578-4145-b2a3-fc899147b202",
   "metadata": {
    "tags": []
   },
   "outputs": [],
   "source": [
    "path_agb = product_agb_l2b.measurement_file   \n",
    "path_agb_std = product_agb_l2b.measurement_std_file \n",
    "\n",
    "print(path_agb)\n",
    "print(path_agb_std)"
   ]
  },
  {
   "cell_type": "code",
   "execution_count": null,
   "id": "cf2376dc-bad9-47ce-b197-9219e318fd87",
   "metadata": {
    "tags": []
   },
   "outputs": [],
   "source": [
    "nan_value=product_agb_l2b.floatNoDataValue\n",
    "\n",
    "with rasterio.open(path_agb) as agb_raster:\n",
    "    agb_r = agb_raster.read(1)\n",
    "    \n",
    "    # Get the coordinates for the plot\n",
    "    transform = agb_raster.transform\n",
    "    width = agb_raster.width\n",
    "    height = agb_raster.height\n",
    "    cols, rows = np.meshgrid(np.arange(width), np.arange(height))\n",
    "    xs, ys = rasterio.transform.xy(transform, rows, cols)\n",
    "    \n",
    "    # Convert to numpy arrays\n",
    "    lons = np.array(xs)\n",
    "    lats = np.array(ys)\n",
    "\n",
    "\n",
    "\n",
    "with rasterio.open(path_agb_std) as agb_std_raster:\n",
    "    agb_std_r = agb_std_raster.read(1)\n",
    "\n",
    "agb_avg = np.nanmean(np.ma.masked_equal(agb_r,nan_value))\n",
    "agb_std = np.nanstd(np.ma.masked_equal(agb_r, nan_value))\n",
    "\n",
    "agb_std_avg = np.nanmean(np.ma.masked_equal(agb_std_r, nan_value))\n",
    "agb_std_std = np.nanstd(np.ma.masked_equal(agb_std_r, nan_value))"
   ]
  },
  {
   "cell_type": "code",
   "execution_count": null,
   "id": "6c52472d-c63e-4de7-a784-fab356b3445a",
   "metadata": {
    "tags": []
   },
   "outputs": [],
   "source": [
    "std_multiplier = 1\n",
    "aspect_ratio = 1\n",
    "colorbar_fraction = 0.05\n",
    "colorbar_pad = 0.04\n",
    "nan_value=product_agb_l2b.floatNoDataValue\n",
    "\n",
    "fig, axes = plt.subplots(2,1, figsize=(8,8)) \n",
    "ax1 = axes[0].imshow(\n",
    "    np.ma.masked_equal(agb_r,nan_value), \n",
    "    cmap='YlGn',\n",
    "    aspect=aspect_ratio, \n",
    "    extent=(lons.min(), lons.max(), lats.min(), lats.max()),\n",
    "    vmin =  agb_avg - std_multiplier * agb_std,\n",
    "    vmax =  agb_avg + std_multiplier * agb_std\n",
    ")\n",
    "axes[0].set_title('agb [Mg/ha]')\n",
    "axes[0].set_xlabel(\"Lon (wgs84)\")\n",
    "axes[0].set_ylabel(\"Lat (wgs84)\")\n",
    "\n",
    "ax2 = axes[1].imshow(\n",
    "    np.ma.masked_equal(agb_std_r, nan_value), \n",
    "    cmap='rainbow',\n",
    "    aspect=aspect_ratio,\n",
    "    extent=(lons.min(), lons.max(), lats.min(), lats.max()),\n",
    "   vmin =  agb_std_avg - std_multiplier * agb_std_std,\n",
    "   vmax =  agb_std_avg + std_multiplier * agb_std_std\n",
    ")\n",
    "axes[1].set_title('agb std [Mg/ha]')\n",
    "axes[1].yaxis.set_tick_params(labelleft=False)\n",
    "axes[1].set_xlabel(\"Lon (wgs84)\")\n",
    "\n",
    "fig.colorbar(ax1, ax=axes[0], orientation='vertical', fraction=colorbar_fraction, pad=colorbar_pad)\n",
    "fig.colorbar(ax2, ax=axes[1], orientation='vertical', fraction=colorbar_fraction, pad=colorbar_pad)\n",
    "fig.tight_layout()\n",
    "plt.show()\n"
   ]
  },
  {
   "cell_type": "markdown",
   "id": "30568d90-f296-45d0-b439-bdece87a99b1",
   "metadata": {},
   "source": [
    "#### Section 6.2: L2B AGB  Annotation folder"
   ]
  },
  {
   "cell_type": "code",
   "execution_count": null,
   "id": "5d565a65-6deb-4e0e-930e-c4fb7eac73a1",
   "metadata": {
    "tags": []
   },
   "outputs": [],
   "source": [
    "acquisition_id_image_path = product_agb_l2b.annotation_acquisition_file \n",
    "fnf_path = product_agb_l2b.annotation_bps_fnf_file\n",
    "heatmap_path = product_agb_l2b.annotation_heatmap_file"
   ]
  },
  {
   "cell_type": "markdown",
   "id": "36a19a9c-ae52-4360-933b-9aff1bcf6a2d",
   "metadata": {},
   "source": [
    "#### Section 6.3: L2B AGB  Annotation folder - FNF"
   ]
  },
  {
   "cell_type": "code",
   "execution_count": null,
   "id": "672926ed-5070-495b-b3d8-ea0486132e2e",
   "metadata": {
    "tags": []
   },
   "outputs": [],
   "source": [
    "with rasterio.open(fnf_path) as fnf_raster:\n",
    "    fnf_array = fnf_raster.read(1)\n",
    "    \n",
    "    # Get the coordinates for the plot\n",
    "    transform = fnf_raster.transform\n",
    "    width = fnf_raster.width\n",
    "    height = fnf_raster.height\n",
    "    cols, rows = np.meshgrid(np.arange(width), np.arange(height))\n",
    "    xs, ys = rasterio.transform.xy(transform, rows, cols)\n",
    "    \n",
    "    # Convert to numpy arrays\n",
    "    lons = np.array(xs)\n",
    "    lats = np.array(ys)"
   ]
  },
  {
   "cell_type": "code",
   "execution_count": null,
   "id": "093c1a42-a436-4faa-bcc1-e519d5c0cb5b",
   "metadata": {
    "tags": []
   },
   "outputs": [],
   "source": [
    "import matplotlib.colors as mcolors\n",
    "import matplotlib.patches as mpatches\n",
    "nan_value = 255\n",
    "aspect_ratio =1\n",
    "\n",
    "\n",
    "binary_cmap = mcolors.ListedColormap(['brown', 'green'])\n",
    "white_patch = mpatches.Patch(color='brown', label='No Forest')\n",
    "black_patch = mpatches.Patch(color='green', label='Forest')\n",
    "\n",
    "fig, ax = plt.subplots(1, 1)\n",
    "ax1 = ax.imshow(\n",
    "    np.ma.masked_equal(fnf_array, nan_value), \n",
    "    cmap=binary_cmap,\n",
    "    aspect=aspect_ratio, \n",
    "    extent=(lons.min(), lons.max(), lats.min(), lats.max()),\n",
    "    vmin=0,\n",
    "    vmax=1\n",
    ")\n",
    "ax.set_title('FNF')\n",
    "ax.set_xlabel(\"Lon (wgs84)\")\n",
    "ax.set_ylabel(\"Lat (wgs84)\")\n",
    "\n",
    "fig.legend(handles=[white_patch, black_patch], loc='right', bbox_to_anchor=(1, 0.5))\n",
    "fig.tight_layout()\n",
    "plt.show()\n"
   ]
  },
  {
   "cell_type": "markdown",
   "id": "04e43336-c534-4877-bfe2-1935f88b8c77",
   "metadata": {},
   "source": [
    "#### Section 6.4: L2B AGB  Annotation folder - HeatMap"
   ]
  },
  {
   "cell_type": "code",
   "execution_count": null,
   "id": "c2fa3af8-f14e-4c88-8ac0-554922b829c0",
   "metadata": {
    "tags": []
   },
   "outputs": [],
   "source": [
    "nan_value = 0 ### strange nan_value\n",
    "with rasterio.open(heatmap_path) as heatmap_raster:\n",
    "    denominator = heatmap_raster.read(1)\n",
    "    n_reference_data = heatmap_raster.read(2)\n",
    "    n_additional_reference_data = heatmap_raster.read(3)\n",
    "    \n",
    "    \n",
    "    # Get the coordinates for the plot\n",
    "    transform = heatmap_raster.transform\n",
    "    width = heatmap_raster.width\n",
    "    height = heatmap_raster.height\n",
    "    cols, rows = np.meshgrid(np.arange(width), np.arange(height))\n",
    "    xs, ys = rasterio.transform.xy(transform, rows, cols)\n",
    "    \n",
    "    # Convert to numpy arrays\n",
    "    lons = np.array(xs)\n",
    "    lats = np.array(ys)\n",
    "\n",
    "denominator_avg = np.nanmean(np.ma.masked_equal(denominator,nan_value))\n",
    "denominator_std = np.nanstd(np.ma.masked_equal(denominator, nan_value))\n",
    "\n",
    "n_reference_data_min = np.nanmin(np.ma.masked_equal(n_reference_data,nan_value))\n",
    "n_reference_data_max = np.nanmax(np.ma.masked_equal(n_reference_data, nan_value))\n",
    "\n",
    "n_additional_reference_data_min = np.nanmin(np.ma.masked_equal(n_additional_reference_data,nan_value))\n",
    "n_additional_reference_data_max = np.nanmax(np.ma.masked_equal(n_additional_reference_data, nan_value))\n"
   ]
  },
  {
   "cell_type": "code",
   "execution_count": null,
   "id": "d7439dcb-c652-4788-bcaa-cb671f490908",
   "metadata": {
    "tags": []
   },
   "outputs": [],
   "source": [
    "n_reference_data_max"
   ]
  },
  {
   "cell_type": "code",
   "execution_count": null,
   "id": "d5a766de-77c2-4dad-b3a1-b1e4708fc9db",
   "metadata": {
    "tags": []
   },
   "outputs": [],
   "source": [
    "std_multiplier = 1\n",
    "aspect_ratio = 1\n",
    "colorbar_fraction = 0.05\n",
    "colorbar_pad = 0.04\n",
    "nan_value = 0 \n",
    "\n",
    "fig, axes = plt.subplots(3,1, figsize=(8,10)) \n",
    "ax1 = axes[0].imshow(\n",
    "    np.ma.masked_equal(denominator,nan_value), \n",
    "    cmap='rainbow',\n",
    "    aspect=aspect_ratio, \n",
    "    extent=(lons.min(), lons.max(), lats.min(), lats.max()),\n",
    "    vmin =  denominator_avg - std_multiplier * denominator_std,\n",
    "    vmax =  denominator_avg + std_multiplier * denominator_std\n",
    ")\n",
    "axes[0].set_title('denominator')\n",
    "axes[0].set_xlabel(\"Lon (wgs84)\")\n",
    "axes[0].set_ylabel(\"Lat (wgs84)\")\n",
    "\n",
    "ax2 = axes[1].imshow(\n",
    "    np.ma.masked_equal(n_reference_data, nan_value), \n",
    "    cmap='rainbow',\n",
    "    aspect=aspect_ratio,\n",
    "    extent=(lons.min(), lons.max(), lats.min(), lats.max()),\n",
    "    vmin = n_reference_data_min,\n",
    "    vmax = n_reference_data_max\n",
    ")\n",
    "axes[1].set_title('n_reference_data')\n",
    "axes[1].set_xlabel(\"Lon (wgs84)\")\n",
    "axes[1].set_ylabel(\"Lat (wgs84)\")\n",
    "\n",
    "ax3 = axes[2].imshow(\n",
    "    np.ma.masked_equal(n_additional_reference_data, nan_value), \n",
    "    cmap='rainbow',\n",
    "    aspect=aspect_ratio,\n",
    "    extent=(lons.min(), lons.max(), lats.min(), lats.max()),\n",
    "    vmin = n_additional_reference_data_min,\n",
    "    vmax = n_additional_reference_data_max\n",
    ")\n",
    "axes[2].set_title('n_additional_reference_data')\n",
    "axes[2].set_xlabel(\"Lon (wgs84)\")\n",
    "axes[2].set_ylabel(\"Lat (wgs84)\")\n",
    "\n",
    "fig.colorbar(ax1, ax=axes[0], orientation='vertical', fraction=colorbar_fraction, pad=colorbar_pad)\n",
    "fig.colorbar(ax2, ax=axes[1], orientation='vertical', fraction=colorbar_fraction, pad=colorbar_pad)\n",
    "fig.colorbar(ax3, ax=axes[2], orientation='vertical', fraction=colorbar_fraction, pad=colorbar_pad)\n",
    "fig.tight_layout()\n",
    "plt.show()\n"
   ]
  },
  {
   "cell_type": "markdown",
   "id": "5201e890-8d08-48de-a6f9-4c31f632d2a3",
   "metadata": {},
   "source": [
    "#### Section 6.5: L2B AGB  Annotation folder - Acquisition ID Image"
   ]
  },
  {
   "cell_type": "code",
   "execution_count": null,
   "id": "4a999acc-571e-4891-acbd-53daf5bdb091",
   "metadata": {
    "tags": []
   },
   "outputs": [],
   "source": [
    "acquisition_id_image_layers = {}\n",
    "\n",
    "with rasterio.open(acquisition_id_image_path) as acquisition_id_image:\n",
    "    num_channels = acquisition_id_image.count\n",
    "\n",
    "    for i in range(0, num_channels):\n",
    "        acquisition_id_image_layers[str(i + 1)] = acquisition_id_image.read(i+1)    \n",
    "    \n",
    "    \n",
    "    # Get the coordinates for the plot\n",
    "    transform = acquisition_id_image.transform\n",
    "    width = acquisition_id_image.width\n",
    "    height = acquisition_id_image.height\n",
    "    cols, rows = np.meshgrid(np.arange(width), np.arange(height))\n",
    "    xs, ys = rasterio.transform.xy(transform, rows, cols)\n",
    "    \n",
    "    # Convert to numpy arrays\n",
    "    lons = np.array(xs)\n",
    "    lats = np.array(ys)"
   ]
  },
  {
   "cell_type": "code",
   "execution_count": null,
   "id": "bf83039e-505a-4ffc-91d3-55c01c5688d0",
   "metadata": {
    "tags": []
   },
   "outputs": [],
   "source": [
    "\n",
    "nan_value = 0\n",
    "aspect_ratio =1\n",
    "colorbar_fraction = 0.05\n",
    "colorbar_pad = 0.04\n",
    "\n",
    "\n",
    "\n",
    "fig, axes = plt.subplots(num_channels, 1, figsize=(10, 5 * num_channels))\n",
    "\n",
    "for i in range(1, num_channels + 1):\n",
    "    data = acquisition_id_image_layers[str(i)]\n",
    "    \n",
    "    # Calculate the aspect ratio\n",
    "    aspect_ratio = (lons.max() - lons.min()) / (lats.max() - lats.min())\n",
    "    \n",
    "    # Plot the data\n",
    "    ax = axes[i - 1] if num_channels > 1 else axes\n",
    "    ax1 = ax.imshow(\n",
    "        np.ma.masked_equal(data, nan_value), \n",
    "        cmap=\"rainbow\",\n",
    "        aspect=aspect_ratio, \n",
    "        extent=(lons.min(), lons.max(), lats.min(), lats.max()),\n",
    "        vmin=0,\n",
    "        vmax=np.ma.masked_equal(data, nan_value).max()  # Example of using mean and std for vmin and vmax\n",
    "    )\n",
    "    ax.set_title(f'Acquisition ID  {i}')\n",
    "    ax.set_xlabel(\"Lon (wgs84)\")\n",
    "    ax.set_ylabel(\"Lat (wgs84)\")\n",
    "    \n",
    "    # Add colorbar\n",
    "    fig.colorbar(ax1, ax=ax, orientation='vertical', fraction=colorbar_fraction, pad=colorbar_pad)\n",
    "\n",
    "fig.tight_layout()\n",
    "plt.show()\n"
   ]
  },
  {
   "cell_type": "code",
   "execution_count": null,
   "id": "ce2666ee-4154-4a6c-8325-0fbd9b380eca",
   "metadata": {},
   "outputs": [],
   "source": []
  },
  {
   "cell_type": "code",
   "execution_count": null,
   "id": "d0cb02b1-ba83-4b2e-ae54-ee3c04f5db25",
   "metadata": {},
   "outputs": [],
   "source": []
  },
  {
   "cell_type": "code",
   "execution_count": null,
   "id": "136e2dde-e0cf-4b5e-8b57-f5a6d77552c9",
   "metadata": {},
   "outputs": [],
   "source": []
  },
  {
   "cell_type": "code",
   "execution_count": null,
   "id": "79a8ca95-5ae1-4ccf-924a-723adb837336",
   "metadata": {},
   "outputs": [],
   "source": []
  }
 ],
 "metadata": {
  "kernelspec": {
   "display_name": "base",
   "language": "python",
   "name": "python3"
  },
  "language_info": {
   "codemirror_mode": {
    "name": "ipython",
    "version": 3
   },
   "file_extension": ".py",
   "mimetype": "text/x-python",
   "name": "python",
   "nbconvert_exporter": "python",
   "pygments_lexer": "ipython3",
   "version": "3.12.9"
  }
 },
 "nbformat": 4,
 "nbformat_minor": 5
}
