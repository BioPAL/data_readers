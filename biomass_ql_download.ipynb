{
 "cells": [
  {
   "cell_type": "markdown",
   "metadata": {},
   "source": [
    "(c) European Space Agency (ESA) Licensed under ESA Software Community Licence Permissive (Type 3) – v2.4\n",
    "\n",
    "Example on how to query the ASCEND Catalogue and download BIOMASS QL data.\n",
    "This requires a token generated with a dedicated account. \n"
   ]
  },
  {
   "cell_type": "code",
   "execution_count": null,
   "metadata": {},
   "outputs": [],
   "source": [
    "from pystac_client import Client \n",
    "from pystac import Collection\n",
    "from tqdm import tqdm\n",
    "import pandas as pd \n",
    "import requests\n",
    "import json\n",
    "import os"
   ]
  },
  {
   "cell_type": "code",
   "execution_count": null,
   "metadata": {},
   "outputs": [],
   "source": [
    "\n",
    "URL_LANDING_PAGE =  'https://catalog.maap.eo.esa.int/catalogue/'  # Operational "
   ]
  },
  {
   "cell_type": "code",
   "execution_count": null,
   "metadata": {},
   "outputs": [],
   "source": [
    "api = Client.open(URL_LANDING_PAGE) \n",
    "# show as a dictionary\n",
    "#api.to_dict()\n",
    "\n"
   ]
  },
  {
   "cell_type": "markdown",
   "metadata": {},
   "source": [
    "Filter - allows to search for different metadata parameters.  e.g. \"modificationDate\" as hereafter:\n",
    "#filter=\"modificationDate > TIMESTAMP('2025-01-10T09:54:34.651Z')\"\n",
    "\n",
    "Datetime represents the coverage of the data. None can be used for start and finish to indicate unbounded queries. \n",
    "#datetime=['2017-01-01T00:00:00Z', None]\n",
    "\n",
    "BIO_COLLECTIONS - Represents the data to be queried; is can be a list."
   ]
  },
  {
   "cell_type": "code",
   "execution_count": null,
   "metadata": {},
   "outputs": [],
   "source": [
    "#BIO_COLLECTIONS=['BiomassLevel0IOC']\n",
    "#BIO_COLLECTIONS=['BiomassAuxIOC']\n",
    "#BIO_COLLECTIONS=['BiomassSimulated']\n",
    "BIO_COLLECTIONS=['BiomassLevel1aIOC']\n",
    "results = api.search(\n",
    "    method=\"GET\",\n",
    "    max_items = 500,\n",
    "    collections=BIO_COLLECTIONS,\n",
    "    #filter=\"modificationDate > TIMESTAMP('2025-05-23T00:00:00.000Z') and productType='S1_RAW__0S'\"\n",
    "    filter=\"productType='S1_SCS__1S'\",\n",
    "   datetime=['2025-09-29T00:00:00Z', '2025-09-29T00:12:00Z'] \n",
    ")\n",
    "\n",
    "print(f\"{results.matched()} items found.\")"
   ]
  },
  {
   "cell_type": "markdown",
   "metadata": {},
   "source": [
    "Using Pandas dataframes for ease of use, extracting the urls to download.\n",
    "\n",
    "download_url is the full zip\n",
    "quicklook_url is the png quick look\n",
    "kmz_url is the kmz overview that requires the png."
   ]
  },
  {
   "cell_type": "code",
   "execution_count": null,
   "metadata": {},
   "outputs": [],
   "source": [
    "data = results.item_collection_as_dict()\n",
    "#df=pd.json_normalize(data,record_path=['features'])\n",
    "df = pd.json_normalize(data, record_path=['features'])[[\"id\",\"collection\",\"properties.product:type\",\"assets.product.href\",\"assets.product.file:local_path\",\"assets.quicklook.href\",\"assets.quicklook.title\",\"assets.quicklook_1.href\",\"assets.quicklook_1.title\",\"properties.updated\"]]\n",
    "df.rename(columns={'properties.product:type': 'product_type', 'assets.product.href': 'download_url', 'assets.product.file:local_path': 'product_name','properties.updated': 'last_modified','assets.quicklook.href': 'quicklook_url','assets.quicklook.title': 'quicklook_name','assets.quicklook_1.href': 'kmz_url','assets.quicklook_1.title': 'kmz_name'}, inplace=True)\n",
    "df.sort_values(by = 'id', ascending=True, inplace=True)\n",
    "\n",
    "df"
   ]
  },
  {
   "cell_type": "markdown",
   "metadata": {},
   "source": [
    "This is the data download part, it requires a token (using the functional user) to be saved locally. \n",
    "\n",
    "Token needs to be obtained directly for the functional user - using the sample script or directly to the server.\n",
    "\n",
    "__TOKEN is most probably not valid, the valid can be used if the user obtain the token from the url and doesn't use a token.txt file.\n",
    "Users can generate and retrieve the token here:\n",
    "➡️ https://portal.maap.eo.esa.int/ini/services/auth/token/"
   ]
  },
  {
   "cell_type": "code",
   "execution_count": null,
   "metadata": {},
   "outputs": [],
   "source": [
    "import pathlib\n",
    "if pathlib.Path(\"token.txt\").exists():\n",
    "  with open(\"token.txt\",\"rt\") as f:\n",
    "    token = f.read().strip().replace(\"\\n\",\"\")\n",
    "    print(\"Got token\")\n",
    "else:\n",
    "  token=__TOKEN\n",
    "\n",
    "def download_file_with_bearer_token(url, token, file_path, disable_bar=False):\n",
    "  \"\"\"\n",
    "  Downloads a file from a given URL using a Bearer token.\n",
    "  \"\"\"\n",
    "\n",
    "  try:\n",
    "    headers = {\"Authorization\": f\"Bearer {token}\"}\n",
    "    response = requests.get(url, headers=headers, stream=True)\n",
    "    response.raise_for_status()  # Raise an exception for bad status codes\n",
    "    file_size = int(response.headers.get('content-length', 0))\n",
    "\n",
    "    chunk_size = 8 * 1024 * 1024 # Byes - 1MiB\n",
    "    with open(file_path, \"wb\") as f, tqdm(\n",
    "        desc=file_path,\n",
    "        total=file_size,\n",
    "        unit='iB',\n",
    "        unit_scale=True,\n",
    "        unit_divisor=1024,\n",
    "        disable=disable_bar,\n",
    "      ) as bar:\n",
    "      for chunk in response.iter_content(chunk_size=chunk_size):\n",
    "        read_size=f.write(chunk)\n",
    "        bar.update(read_size)\n",
    "\n",
    "    if (disable_bar): \n",
    "      print(f\"File downloaded successfully to {file_path}\")\n",
    "\n",
    "  except requests.exceptions.RequestException as e:\n",
    "    print(f\"Error downloading file: {e}\")\n",
    "\n",
    "# # test one...\n",
    "# my_test_url=\"https://catalog.maap.eo.esa.int/data/zipper/biomass-pdgs-01/BiomassLevel1aIOC/2025/06/06/BIO_S1_SCS__1S_20250606T171259_20250606T171320_C_G___M___C___T____F136_01_D9UITH/BIO_S1_SCS__1S_20250606T171259_20250606T171320_C_G___M___C___T____F136_01_D9UITH\"\n",
    "# my_test_name=\"BIO_S1_SCS__1S_20250606T171259_20250606T171320_C_G___M___C___T____F136_01_D9UITH.ZIP\"\n",
    "# download_file_with_bearer_token(my_test_url, token, my_test_name)"
   ]
  },
  {
   "cell_type": "markdown",
   "metadata": {},
   "source": [
    "One has to be very carefull below, it can download a lot of data if the df is huge! \n",
    "\n",
    "It can and should commented out if one just wants the QL (next cells)."
   ]
  },
  {
   "cell_type": "markdown",
   "metadata": {},
   "source": []
  },
  {
   "cell_type": "code",
   "execution_count": null,
   "metadata": {},
   "outputs": [],
   "source": [
    "# Download products\n",
    "# For full dataframe remove \".head().\" call\n",
    "# for i in df.head(4).index:\n",
    "#     download_file_with_bearer_token(df.loc[i]['download_url'], token, df.loc[i]['product_name'])\n",
    "\n",
    "download_file_with_bearer_token(df.loc[0]['download_url'], token, df.loc[0]['product_name'])"
   ]
  },
  {
   "cell_type": "markdown",
   "metadata": {},
   "source": [
    "The following will download all the QL files for the products in the df, make sure that the query matches your needs before running this one."
   ]
  },
  {
   "cell_type": "code",
   "execution_count": null,
   "metadata": {},
   "outputs": [],
   "source": [
    "# Download quicklooks and kmz\n",
    "# For full dataframe remove \".head().\" call... df.head(2).index or df.index\n",
    "for i in df.index:\n",
    "    filename = os.path.splitext(df.loc[i]['kmz_name'])[0] \n",
    "    download_file_with_bearer_token(df.loc[i]['quicklook_url'], token, df.loc[i]['quicklook_name'])\n",
    "    download_file_with_bearer_token(df.loc[i]['kmz_url'], token, df.loc[i]['kmz_name'])\n",
    "    index = filename.find(\"_map\")\n",
    "    filename = filename[:index] + \"_ql.png\"\n",
    "    os.rename(df.loc[i]['quicklook_name'], filename)\n",
    "    \n",
    "    "
   ]
  }
 ],
 "metadata": {
  "kernelspec": {
   "display_name": "Python 3 (ipykernel)",
   "language": "python",
   "name": "python3"
  },
  "language_info": {
   "codemirror_mode": {
    "name": "ipython",
    "version": 3
   },
   "file_extension": ".py",
   "mimetype": "text/x-python",
   "name": "python",
   "nbconvert_exporter": "python",
   "pygments_lexer": "ipython3",
   "version": "3.10.17"
  }
 },
 "nbformat": 4,
 "nbformat_minor": 4
}
