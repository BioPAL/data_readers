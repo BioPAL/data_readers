{
 "cells": [
  {
   "cell_type": "markdown",
   "id": "1ac3d59b-5f29-4362-9dec-3652e4a43413",
   "metadata": {},
   "source": [
    "# 🌍 BIOMASS SCS Product Explorer\n",
    "\n",
    "(c) European Space Agency (ESA) - Licensed under  ESA Software Community Licence Permissive (Type 3) – v2.4\n",
    "\n",
    "\n",
    "Welcome to the notebook for exploring BIOMASS SCS products.\n",
    "This notebook uses the `BiomassProductSCS` class, which allows you to:\n",
    "- Parse and inspect the product folder structure\n",
    "- Load and explore LUT (Look-Up Table) variables\n",
    "- Load complex polarimetric channels (amplitude and phase)\n",
    "\n",
    "\n",
    "👇 Scroll through the next cells to perform step-by-step analysis."
   ]
  },
  {
   "cell_type": "code",
   "execution_count": null,
   "id": "c7884fa4-49a1-4181-a70d-174eaf02b123",
   "metadata": {
    "jp-MarkdownHeadingCollapsed": true
   },
   "outputs": [],
   "source": [
    "import BiomassProduct\n",
    "\n",
    "# Define the path to the STA product\n",
    "test_scs_path = r\"..\\L1a\\BIO_S3_SCS__1S_20170225T094537_20170225T094558_I_G01_M02_C01_T017_F001_01_DBEMV5\"\n",
    "product_SCS = BiomassProduct.BiomassProductSCS(test_scs_path)\n"
   ]
  },
  {
   "cell_type": "markdown",
   "id": "b80c4481-6109-4459-9029-52daf8d307ff",
   "metadata": {},
   "source": [
    "🧾 Accessing internal product file paths\n",
    "You can access internal files such as TIFF, NetCDF, XML via attributes of the object."
   ]
  },
  {
   "cell_type": "code",
   "execution_count": null,
   "id": "4c4e5d6c-865e-4f48-a49a-9475db3700e1",
   "metadata": {},
   "outputs": [],
   "source": [
    "print(\"ABS TIFF:     \", product_SCS.measurement_abs_file)\n",
    "print(\"PHASE TIFF:   \", product_SCS.measurement_phase_file)\n",
    "print(\"LUT NetCDF:   \", product_SCS.annotation_lut_file)\n",
    "print(\"Primary XML:  \", product_SCS.annotation_xml_file)\n",
    "print(\"Quicklook PNG:\", product_SCS.preview_ql_file) "
   ]
  },
  {
   "cell_type": "markdown",
   "id": "e77f6079-9b7d-478b-a2fc-99f7a09cd04b",
   "metadata": {},
   "source": [
    "🧩 Accessing LUT variables as attributes\n",
    "After initialization, LUT variables are loaded as attributes using the format:\n",
    "<group>_<variable_name>\n",
    "\n",
    "Examples:\n",
    "\n",
    "product_SCS.geometry_latitude\n",
    "product_SCS.geometry_longitude\n",
    "product_STA.geometry_incidenceAngle"
   ]
  },
  {
   "cell_type": "code",
   "execution_count": null,
   "id": "abd38813-a07b-447d-bb13-c81880e734aa",
   "metadata": {},
   "outputs": [],
   "source": [
    "# Denoising variables\n",
    "print(product_SCS.denoising_denoisingHH)\n",
    "print(product_SCS.denoising_denoisingHV)\n",
    "print(product_SCS.denoising_denoisingVH)\n",
    "print(product_SCS.denoising_denoisingVV)\n",
    "\n",
    "# Geometry variables\n",
    "print(product_SCS.geometry_latitude)\n",
    "print(product_SCS.geometry_longitude)\n",
    "print(product_SCS.geometry_height)\n",
    "print(product_SCS.geometry_incidenceAngle)\n",
    "print(product_SCS.geometry_elevationAngle)\n",
    "print(product_SCS.geometry_terrainSlope)\n",
    "\n",
    "# Radiometry variables\n",
    "print(product_SCS.radiometry_sigmaNought)\n",
    "print(product_SCS.radiometry_gammaNought)\n",
    "\n",
    "# Global attributes\n",
    "print(product_SCS.global_polarisationList)\n",
    "print(product_SCS.global_orbitPass)"
   ]
  },
  {
   "cell_type": "markdown",
   "id": "844172ba-67af-4391-9178-242793085b8a",
   "metadata": {},
   "source": [
    "🧩 plot_lut_variable(variable_name, save_geotiff=False)\n",
    "Displays a variable as a 2D plot and optionally saves it as a GeoTIFF."
   ]
  },
  {
   "cell_type": "code",
   "execution_count": null,
   "id": "e67bf98d-7bce-49dd-a238-213bdb9558be",
   "metadata": {
    "jp-MarkdownHeadingCollapsed": true
   },
   "outputs": [],
   "source": [
    "product_SCS.plot_lut_variable(\"incidenceAngle\", save_geotiff=False)"
   ]
  },
  {
   "cell_type": "code",
   "execution_count": null,
   "id": "8c743175-1f97-4e92-9cbb-eac9ad24c4fe",
   "metadata": {
    "jp-MarkdownHeadingCollapsed": true
   },
   "outputs": [],
   "source": [
    "# Load complex polarimetric channels (amplitude and phase)\n",
    "product_SCS.load_complex_polarizations()\n",
    "\n",
    "# Access complex, amplitude and phase data for specific polarizations\n",
    "hh_complex = product_SCS.S['HH']      # Complex matrix for HH\n",
    "vv_amplitude = product_SCS.A['VV']    # Amplitude matrix for VV\n",
    "hv_phase = product_SCS.P['HV']        # Phase matrix for HV\n",
    "\n",
    "# Print basic information for quick inspection\n",
    "print(\"HV Phase matrix:\")\n",
    "print(hv_phase)\n",
    "\n",
    "print(\"\\nVV Amplitude matrix:\")\n",
    "print(vv_amplitude)\n",
    "\n",
    "print(\"\\nHH Complex matrix:\")\n",
    "print(hh_complex)"
   ]
  },
  {
   "cell_type": "markdown",
   "id": "2d6fed80-5f47-412e-a44e-2d7789727fa0",
   "metadata": {},
   "source": [
    "# 🌍 BIOMASS STA Product Explorer\n",
    "(c) European Space Agency (ESA) Licensed under ESA Software Community Licence Permissive (Type 3) – v2.4\n",
    "\n",
    "\n",
    "Welcome to the notebook for exploring BIOMASS STA products.\n",
    "This notebook uses the `BiomassProductSTA` class, which allows you to:\n",
    "- check the internal structure of the product\n",
    "- validate key files (TIFF, VRT, XML, LUT)\n",
    "- explore and visualize LUT variables\n",
    "- create interactive maps from satellite TIFFs\n",
    "\n",
    "👇 Scroll through the next cells to perform step-by-step analysis."
   ]
  },
  {
   "cell_type": "code",
   "execution_count": null,
   "id": "fbaae509-d37d-4d73-8e9c-8ab1bbd2ec82",
   "metadata": {},
   "outputs": [],
   "source": [
    "from  BiomassProduct import BiomassProductSTA\n",
    "product_STA_path = r\"..\\L1c\\BIO_S3_STA__1S_20170303T094541_20170303T094602_I_G01_M02_C03_T017_F001_01_DBEOLS\" \n",
    "product_STA= BiomassProductSTA(product_STA_path)\n",
    "\n",
    "print( product_STA.measurement_phase_file)"
   ]
  },
  {
   "cell_type": "markdown",
   "id": "3e9ffbb9-cf58-4133-a863-008d63a37ea3",
   "metadata": {},
   "source": [
    "### 🧾 Accessing internal product file paths\n",
    "\n",
    "You can access internal files such as TIFF, NetCDF, XML via attributes of the object."
   ]
  },
  {
   "cell_type": "code",
   "execution_count": null,
   "id": "294a1f13-dfb3-4045-8712-c11a10d63d3a",
   "metadata": {},
   "outputs": [],
   "source": [
    "print(\"ABS TIFF:\", product_STA.measurement_abs_file)\n",
    "print(\"PHASE TIFF:\", product_STA.measurement_phase_file)\n",
    "print(\"LUT NetCDF:\", product_STA.annotation_coregistered_lut_file)\n",
    "print(\"Primary annotation XML:\", product_STA.annotation_primary_xml_file)\n",
    "print(\"Preview quicklook PNG:\", product_STA.preview_ql_file)"
   ]
  },
  {
   "cell_type": "markdown",
   "id": "04c7ba46-5d3e-418c-bb87-5f1d13c22a4f",
   "metadata": {},
   "source": [
    "### 🧩 Accessing LUT variables as attributes\n",
    "\n",
    "After initialization, LUT variables are loaded as attributes using the format:  \n",
    "`<group>_<variable_name>`\n",
    "\n",
    "Examples:\n",
    "- `product_STA.geometry_latitude`\n",
    "- `product_STA.geometry_longitude`\n",
    "- `product_STA.coregistration_azimuthCoregistrationShifts`"
   ]
  },
  {
   "cell_type": "code",
   "execution_count": null,
   "id": "df77c82f-99fe-4a63-aa93-261d4c17d24e",
   "metadata": {},
   "outputs": [],
   "source": [
    "# Access the latitude array and print its shape and range\n",
    "lat = product_STA.geometry_latitude\n",
    "print(\"Latitude shape:\", lat.shape)\n",
    "print(\"Min / Max latitude:\", lat.min().values, \"/\", lat.max().values)\n",
    "\n",
    "# Access coregistration shifts in azimuth\n",
    "az_shifts = product_STA.coregistration_azimuthCoregistrationShifts\n",
    "print(\"Azimuth shifts shape:\", az_shifts.shape)\n",
    "print(\"Azimuth shifts sample values:\", az_shifts.values[0:5, 0:5])"
   ]
  },
  {
   "cell_type": "markdown",
   "id": "ab4b96dd-c9fd-478e-abe2-73961ecb142e",
   "metadata": {},
   "source": [
    "### 🧩  check_structure()\n",
    "Verifies that all required directories exist."
   ]
  },
  {
   "cell_type": "code",
   "execution_count": null,
   "id": "17ba2c7d-309a-4199-9f5a-b30edc71682e",
   "metadata": {},
   "outputs": [],
   "source": [
    "product_STA.check_structure()"
   ]
  },
  {
   "cell_type": "markdown",
   "id": "8bf790de-c870-4e52-af0a-53ee705e1627",
   "metadata": {},
   "source": [
    "### 🧩  check_tiff_files()\n",
    "Validates the readability of all TIFF files in the measurement folder."
   ]
  },
  {
   "cell_type": "code",
   "execution_count": null,
   "id": "73dba456-f20b-4e1d-bc62-aecee6566e48",
   "metadata": {},
   "outputs": [],
   "source": [
    "product_STA.check_tiff_files()"
   ]
  },
  {
   "cell_type": "markdown",
   "id": "5009da20-013d-45f8-b2b2-e53ad04aba41",
   "metadata": {},
   "source": [
    "### 🧩 inspect_vrt()\n",
    "Parses the VRT file and prints information about dimensions and linked files."
   ]
  },
  {
   "cell_type": "code",
   "execution_count": null,
   "id": "92d442fe-c468-4ce8-bbcc-5158bcf04b4b",
   "metadata": {},
   "outputs": [],
   "source": [
    "product_STA.inspect_vrt()"
   ]
  },
  {
   "cell_type": "markdown",
   "id": "6b3601e2-511e-4f81-8146-f308905c0a6d",
   "metadata": {},
   "source": [
    "### 🧩 check_xml_validity()\n",
    "Validates the syntax of XML files found in the product."
   ]
  },
  {
   "cell_type": "code",
   "execution_count": null,
   "id": "26c9084c-e2fd-47c3-9000-17eedbd8ec25",
   "metadata": {},
   "outputs": [],
   "source": [
    "product_STA.check_xml_validity()"
   ]
  },
  {
   "cell_type": "markdown",
   "id": "b282cb80-54c9-4b78-b82c-b545bd251490",
   "metadata": {},
   "source": [
    "### 🧩  check_lut_contents()\n",
    "Checks for the presence of expected LUT variables in each NetCDF group."
   ]
  },
  {
   "cell_type": "code",
   "execution_count": null,
   "id": "d2c212f1-cbe5-46d7-aa13-117d943a2a72",
   "metadata": {},
   "outputs": [],
   "source": [
    "product_STA.check_lut_contents()"
   ]
  },
  {
   "cell_type": "markdown",
   "id": "95e09acf-2826-484d-a702-d97945d24eab",
   "metadata": {},
   "source": [
    "### 🧩  plot_lut_variable(variable_name, save_geotiff=False)\n",
    "Displays a variable as a 2D plot and optionally saves it as a GeoTIFF."
   ]
  },
  {
   "cell_type": "code",
   "execution_count": null,
   "id": "c15f6cc9-6ffc-4d33-bafc-1b3589619034",
   "metadata": {},
   "outputs": [],
   "source": [
    "# Example: plot the 'incidenceAngle' variable\n",
    "product_STA.plot_lut_variable(\"incidenceAngle\", save_geotiff=False)"
   ]
  },
  {
   "cell_type": "code",
   "execution_count": null,
   "id": "a13cfacc-30c7-4e09-b857-ac6aab07952f",
   "metadata": {},
   "outputs": [],
   "source": [
    "product_STA.plot_lut_variable(\"flatteningPhaseScreen\")\n"
   ]
  },
  {
   "cell_type": "code",
   "execution_count": null,
   "id": "e9aee064-12da-4023-9d76-f8a5efcc6c56",
   "metadata": {},
   "outputs": [],
   "source": [
    "product_STA.plot_lut_variable(\"skpCalibrationPhaseScreen\") "
   ]
  },
  {
   "cell_type": "markdown",
   "id": "96b096b0-547d-4966-a330-25dfeafa0161",
   "metadata": {},
   "source": [
    "### 🧩 check_cog_integrity(tiff_path)\n",
    "Checks if the given TIFF file conforms to COG specifications."
   ]
  },
  {
   "cell_type": "code",
   "execution_count": null,
   "id": "210ed601-a011-4cc4-a92f-4b897801350f",
   "metadata": {},
   "outputs": [],
   "source": [
    "product_STA.check_cog_integrity(product_STA.measurement_abs_file)"
   ]
  },
  {
   "cell_type": "markdown",
   "id": "ab834d28-e719-4503-b00d-137a8cdb4612",
   "metadata": {},
   "source": [
    "##  Preview PNG Visualization\n",
    "This method checks the integrity of the quicklook image and displays it below."
   ]
  },
  {
   "cell_type": "code",
   "execution_count": null,
   "id": "de09c306-1ec3-42ab-bd6e-7734ada63a06",
   "metadata": {},
   "outputs": [],
   "source": [
    "product_STA.check_preview_png()"
   ]
  },
  {
   "cell_type": "markdown",
   "id": "dceea354-daa2-40d7-b8e7-4f374d896679",
   "metadata": {},
   "source": [
    "# 🌍 BIOMASS L2 FH Product Explorer\n",
    "(c) European Space Agency (ESA) Licensed under ESA Software Community Licence Permissive (Type 3) – v2.4\n",
    "\n",
    "\n",
    "Welcome to the notebook for exploring BIOMASS L2A Forest Height (FH) products.\n",
    "This notebook uses the `l2a_fh` class, which allows you to:\n",
    "- check the internal structure of the product\n",
    "- validate key files (TIFF, XML, LUT)\n",
    "- explore and access LUT variables directly as attributes\n",
    "- visualize FNF masks as static plots or interactive map overlays\n",
    "\n",
    "👇 Scroll through the next cells to perform step-by-step analysis."
   ]
  },
  {
   "cell_type": "markdown",
   "id": "8fbad37f-0248-45a6-aab4-68ce52454b94",
   "metadata": {},
   "source": [
    "##  Load the product"
   ]
  },
  {
   "cell_type": "code",
   "execution_count": null,
   "id": "75c150b9-c501-423e-8047-7758584495c1",
   "metadata": {},
   "outputs": [],
   "source": [
    "import BiomassProduct\n",
    "\n",
    "product_FH__L2A_path = r\"E:\\BIOMASS\\03_SCRIPTS\\example-notebooks\\data\\BIO_FP_FH__L2A_20170125T163833_20170206T163906_T_G03_M03_C___T000_F001_02_D6IOT7\"\n",
    "product_fh_l2a = BiomassProduct.l2a_fh(product_FH__L2A_path)"
   ]
  },
  {
   "cell_type": "markdown",
   "id": "3876fd01-0b5e-4235-bd91-980b123ab4cf",
   "metadata": {},
   "source": [
    "## Accessing internal product file paths\n",
    "You can directly access key internal files of the product using object attributes:"
   ]
  },
  {
   "cell_type": "code",
   "execution_count": null,
   "id": "6241f4f2-3519-4e6b-adb0-42ef32ac721c",
   "metadata": {},
   "outputs": [],
   "source": [
    "print(\"Main Measurement TIFF:\", product_fh_l2a.measurement_file)\n",
    "print(\"Quality Measurement TIFF:\", product_fh_l2a.measurement_quality_file)\n",
    "print(\"Annotation XML:\", product_fh_l2a.annotation_xml_file)\n",
    "print(\"LUT NetCDF:\", product_fh_l2a.annotation_lut_file)\n",
    "print(\"Preview Quicklook PNG:\", product_fh_l2a.preview_ql_file)\n",
    "print(\"Preview Quality PNG:\", product_fh_l2a.preview_quality_file)"
   ]
  },
  {
   "cell_type": "markdown",
   "id": "aba0644f-b141-4dec-9694-45712d7ca6fd",
   "metadata": {},
   "source": [
    "## 🧩 Accessing LUT variables as attributes\n",
    "After initialization, LUT variables are loaded as attributes using the format:\n",
    "`<group>_<variable_name>` (or just `<variable_name>` if from the root group)."
   ]
  },
  {
   "cell_type": "code",
   "execution_count": null,
   "id": "38840a65-0adc-4e94-b2df-3fc527363156",
   "metadata": {},
   "outputs": [],
   "source": [
    "print(list(product_fh_l2a.lut_variables.keys()))\n",
    "\n",
    "# Access the Forest/Non-Forest mask\n",
    "fnf = product_fh_l2a.FNF_FNF\n",
    "print(\"FNF mask shape:\", fnf.shape)\n",
    "\n",
    "\n",
    "# Access the latitude and longitude arrays (from root group)\n",
    "lat = product_fh_l2a.Latitude\n",
    "lon = product_fh_l2a.Longitude\n",
    "print(\"Latitude shape:\", lat.shape)\n",
    "print(\"Longitude shape:\", lon.shape)\n",
    "print(\"Latitude range:\", lat.min().values, \"/\", lat.max().values)\n",
    "\n"
   ]
  },
  {
   "cell_type": "markdown",
   "id": "4d0e2faf-ac2c-4e14-9a2a-a70a5ed83123",
   "metadata": {},
   "source": [
    "##  Run basic integrity checks"
   ]
  },
  {
   "cell_type": "code",
   "execution_count": null,
   "id": "46a4e7a3-d90e-4afe-bd9f-3a8c971a2d7f",
   "metadata": {},
   "outputs": [],
   "source": [
    "\n",
    "product_fh_l2a.check_structure()   # check required folders\n",
    "product_fh_l2a.check_lut_contents()  # list LUT variables\n",
    "product_fh_l2a.check_tiff_files()    # check main TIFFs\n",
    "product_fh_l2a.check_xml_validity() # check XML annotations\n",
    "product_fh_l2a.check_and_show_previews() #Check and display the preview images side by side.\n",
    "\n"
   ]
  },
  {
   "cell_type": "markdown",
   "id": "a3216a41-94e2-4e67-a521-603d982e4dfd",
   "metadata": {},
   "source": [
    "## 🧩Check integrity of COG TIFFs"
   ]
  },
  {
   "cell_type": "code",
   "execution_count": null,
   "id": "61cc7ebe-a712-4143-8779-0e3d2e3c903a",
   "metadata": {},
   "outputs": [],
   "source": [
    "product_fh_l2a.check_cog_integrity() "
   ]
  },
  {
   "cell_type": "markdown",
   "id": "aaf383f7-f43c-47d2-a78e-1fd2094adc3a",
   "metadata": {},
   "source": [
    "##  Show TIFFs on interactive DualMap\n",
    "Displays the measurement and quality TIFFs side-by-side on an interactive map."
   ]
  },
  {
   "cell_type": "code",
   "execution_count": null,
   "id": "2e448150-6fa0-4e79-a339-9e9d551682fb",
   "metadata": {},
   "outputs": [],
   "source": [
    "product_fh_l2a.show_tiffs_on_map( scale_factor=1)"
   ]
  }
 ],
 "metadata": {
  "kernelspec": {
   "display_name": "Python 3 (ipykernel)",
   "language": "python",
   "name": "python3"
  },
  "language_info": {
   "codemirror_mode": {
    "name": "ipython",
    "version": 3
   },
   "file_extension": ".py",
   "mimetype": "text/x-python",
   "name": "python",
   "nbconvert_exporter": "python",
   "pygments_lexer": "ipython3",
   "version": "3.10.17"
  }
 },
 "nbformat": 4,
 "nbformat_minor": 5
}
